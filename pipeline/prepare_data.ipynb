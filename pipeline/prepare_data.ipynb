{
 "cells": [
  {
   "cell_type": "markdown",
   "source": [
    "# Exploratory Data Analysis"
   ],
   "metadata": {
    "collapsed": false
   }
  },
  {
   "cell_type": "markdown",
   "source": [
    "## Informations and Conventions\n",
    "https://zrp.github.io/challenges/data-science/\n",
    "\n",
    "For convention:\n",
    " * labels = 1 will be considered **POSITIVE** cases\n",
    " * labels = 0 will be considered **NEGATIVE** cases."
   ],
   "metadata": {
    "collapsed": false
   }
  },
  {
   "cell_type": "markdown",
   "source": [
    "## Packages"
   ],
   "metadata": {
    "collapsed": false
   }
  },
  {
   "cell_type": "code",
   "execution_count": 40,
   "outputs": [],
   "source": [
    "import pandas as pd\n",
    "import plotly.express as plotly\n",
    "from ast import literal_eval\n",
    "import csv"
   ],
   "metadata": {
    "collapsed": false
   }
  },
  {
   "cell_type": "markdown",
   "source": [
    "## Functions"
   ],
   "metadata": {
    "collapsed": false
   }
  },
  {
   "cell_type": "markdown",
   "source": [
    "## Get raw dataset"
   ],
   "metadata": {
    "collapsed": false
   }
  },
  {
   "cell_type": "code",
   "execution_count": 41,
   "outputs": [
    {
     "data": {
      "text/plain": "            read0           read1           read2           read3  \\\n0  [-0.29, -0.07]   [0.24, -0.62]   [-0.29, 0.14]     [0.1, 0.14]   \n1  [-0.25, -0.04]    [0.04, 0.19]    [0.11, 0.19]   [-0.23, 0.07]   \n2  [-0.59, -0.27]  [-0.42, -0.27]  [-0.42, -0.34]  [-0.35, -0.37]   \n3   [-0.2, -0.15]  [-0.44, -0.31]  [-0.65, -0.31]   [-0.7, -0.17]   \n4  [-0.35, -0.19]  [-0.61, -0.19]  [-0.61, -0.15]  [-0.61, -0.13]   \n\n            read4           read5           read6           read7  \\\n0   [0.41, -0.45]    [0.41, 0.22]    [0.36, 0.03]    [0.37, 0.42]   \n1  [-0.23, -0.38]  [-0.48, -0.37]  [-0.42, -0.33]  [-0.23, -0.33]   \n2  [-0.39, -0.36]  [-0.47, -0.36]  [-0.12, -0.39]  [-0.12, -0.06]   \n3   [-0.7, -0.15]  [-0.63, -0.12]  [-0.56, -0.13]  [-0.46, -0.13]   \n4  [-0.59, -0.15]  [-0.56, -0.15]    [0.44, 0.27]    [0.44, 0.15]   \n\n            read8           read9  start_timestamp  end_timestamp  inference  \n0    [0.19, 0.42]    [0.19, 0.01]       1665656955     1665656967          1  \n1   [-0.23, -0.2]  [-0.12, -0.31]       1665656968     1665656980          1  \n2  [-0.01, -0.05]   [-0.11, 0.46]       1665656982     1665656994          1  \n3  [-0.46, -0.18]  [-0.52, -0.15]       1665656914     1665656926          1  \n4  [-0.59, -0.25]  [-0.56, -0.22]       1665656928     1665656940          1  ",
      "text/html": "<div>\n<style scoped>\n    .dataframe tbody tr th:only-of-type {\n        vertical-align: middle;\n    }\n\n    .dataframe tbody tr th {\n        vertical-align: top;\n    }\n\n    .dataframe thead th {\n        text-align: right;\n    }\n</style>\n<table border=\"1\" class=\"dataframe\">\n  <thead>\n    <tr style=\"text-align: right;\">\n      <th></th>\n      <th>read0</th>\n      <th>read1</th>\n      <th>read2</th>\n      <th>read3</th>\n      <th>read4</th>\n      <th>read5</th>\n      <th>read6</th>\n      <th>read7</th>\n      <th>read8</th>\n      <th>read9</th>\n      <th>start_timestamp</th>\n      <th>end_timestamp</th>\n      <th>inference</th>\n    </tr>\n  </thead>\n  <tbody>\n    <tr>\n      <th>0</th>\n      <td>[-0.29, -0.07]</td>\n      <td>[0.24, -0.62]</td>\n      <td>[-0.29, 0.14]</td>\n      <td>[0.1, 0.14]</td>\n      <td>[0.41, -0.45]</td>\n      <td>[0.41, 0.22]</td>\n      <td>[0.36, 0.03]</td>\n      <td>[0.37, 0.42]</td>\n      <td>[0.19, 0.42]</td>\n      <td>[0.19, 0.01]</td>\n      <td>1665656955</td>\n      <td>1665656967</td>\n      <td>1</td>\n    </tr>\n    <tr>\n      <th>1</th>\n      <td>[-0.25, -0.04]</td>\n      <td>[0.04, 0.19]</td>\n      <td>[0.11, 0.19]</td>\n      <td>[-0.23, 0.07]</td>\n      <td>[-0.23, -0.38]</td>\n      <td>[-0.48, -0.37]</td>\n      <td>[-0.42, -0.33]</td>\n      <td>[-0.23, -0.33]</td>\n      <td>[-0.23, -0.2]</td>\n      <td>[-0.12, -0.31]</td>\n      <td>1665656968</td>\n      <td>1665656980</td>\n      <td>1</td>\n    </tr>\n    <tr>\n      <th>2</th>\n      <td>[-0.59, -0.27]</td>\n      <td>[-0.42, -0.27]</td>\n      <td>[-0.42, -0.34]</td>\n      <td>[-0.35, -0.37]</td>\n      <td>[-0.39, -0.36]</td>\n      <td>[-0.47, -0.36]</td>\n      <td>[-0.12, -0.39]</td>\n      <td>[-0.12, -0.06]</td>\n      <td>[-0.01, -0.05]</td>\n      <td>[-0.11, 0.46]</td>\n      <td>1665656982</td>\n      <td>1665656994</td>\n      <td>1</td>\n    </tr>\n    <tr>\n      <th>3</th>\n      <td>[-0.2, -0.15]</td>\n      <td>[-0.44, -0.31]</td>\n      <td>[-0.65, -0.31]</td>\n      <td>[-0.7, -0.17]</td>\n      <td>[-0.7, -0.15]</td>\n      <td>[-0.63, -0.12]</td>\n      <td>[-0.56, -0.13]</td>\n      <td>[-0.46, -0.13]</td>\n      <td>[-0.46, -0.18]</td>\n      <td>[-0.52, -0.15]</td>\n      <td>1665656914</td>\n      <td>1665656926</td>\n      <td>1</td>\n    </tr>\n    <tr>\n      <th>4</th>\n      <td>[-0.35, -0.19]</td>\n      <td>[-0.61, -0.19]</td>\n      <td>[-0.61, -0.15]</td>\n      <td>[-0.61, -0.13]</td>\n      <td>[-0.59, -0.15]</td>\n      <td>[-0.56, -0.15]</td>\n      <td>[0.44, 0.27]</td>\n      <td>[0.44, 0.15]</td>\n      <td>[-0.59, -0.25]</td>\n      <td>[-0.56, -0.22]</td>\n      <td>1665656928</td>\n      <td>1665656940</td>\n      <td>1</td>\n    </tr>\n  </tbody>\n</table>\n</div>"
     },
     "execution_count": 41,
     "metadata": {},
     "output_type": "execute_result"
    }
   ],
   "source": [
    "df_raw = pd.read_csv('https://raw.githubusercontent.com/zrp/challenges/master/data-science/data.csv')\n",
    "df_raw.head()"
   ],
   "metadata": {
    "collapsed": false
   }
  },
  {
   "cell_type": "code",
   "execution_count": 42,
   "outputs": [
    {
     "name": "stdout",
     "output_type": "stream",
     "text": [
      "Value: [-0.29, -0.07] \n",
      " Type: <class 'str'>\n"
     ]
    }
   ],
   "source": [
    "print('Value:', df_raw.iloc[0]['read0'], '\\n', 'Type:', type(df_raw.iloc[0]['read0']))"
   ],
   "metadata": {
    "collapsed": false
   }
  },
  {
   "cell_type": "markdown",
   "source": [
    "Observing the raw dataset, we can see that the columns read0, read1, ..., read9 are strings. We need to convert them to lists of floats to be able to use them in our analysis."
   ],
   "metadata": {
    "collapsed": false
   }
  },
  {
   "cell_type": "code",
   "execution_count": 43,
   "outputs": [
    {
     "name": "stderr",
     "output_type": "stream",
     "text": [
      "C:\\Users\\Guilherme\\AppData\\Local\\Temp\\ipykernel_1788\\3732615721.py:2: FutureWarning: iteritems is deprecated and will be removed in a future version. Use .items instead.\n",
      "  for name, column in df_reads.iteritems():\n"
     ]
    },
    {
     "data": {
      "text/plain": "               read0           read1           read2           read3  \\\n0     [-0.29, -0.07]   [0.24, -0.62]   [-0.29, 0.14]     [0.1, 0.14]   \n1     [-0.25, -0.04]    [0.04, 0.19]    [0.11, 0.19]   [-0.23, 0.07]   \n2     [-0.59, -0.27]  [-0.42, -0.27]  [-0.42, -0.34]  [-0.35, -0.37]   \n3      [-0.2, -0.15]  [-0.44, -0.31]  [-0.65, -0.31]   [-0.7, -0.17]   \n4     [-0.35, -0.19]  [-0.61, -0.19]  [-0.61, -0.15]  [-0.61, -0.13]   \n...              ...             ...             ...             ...   \n3510   [0.08, -1.27]   [0.07, -1.27]   [0.07, -1.27]   [0.08, -1.27]   \n3511   [0.02, -1.27]   [0.25, -1.27]   [0.18, -1.27]   [0.17, -1.27]   \n3512  [-0.04, -1.27]   [0.03, -1.27]   [0.02, -1.27]   [0.02, -1.27]   \n3513  [-0.09, -1.18]   [0.14, -1.27]   [0.16, -1.27]   [0.15, -1.27]   \n3514   [0.15, -1.27]   [0.15, -1.27]   [0.14, -1.27]   [0.15, -1.27]   \n\n               read4           read5           read6           read7  \\\n0      [0.41, -0.45]    [0.41, 0.22]    [0.36, 0.03]    [0.37, 0.42]   \n1     [-0.23, -0.38]  [-0.48, -0.37]  [-0.42, -0.33]  [-0.23, -0.33]   \n2     [-0.39, -0.36]  [-0.47, -0.36]  [-0.12, -0.39]  [-0.12, -0.06]   \n3      [-0.7, -0.15]  [-0.63, -0.12]  [-0.56, -0.13]  [-0.46, -0.13]   \n4     [-0.59, -0.15]  [-0.56, -0.15]    [0.44, 0.27]    [0.44, 0.15]   \n...              ...             ...             ...             ...   \n3510   [0.08, -1.27]   [0.07, -1.27]   [0.08, -1.27]    [0.1, -1.27]   \n3511   [0.19, -1.27]   [0.18, -1.27]   [0.18, -1.27]   [0.06, -1.14]   \n3512      [0, -1.27]   [0.02, -1.27]   [0.01, -1.27]   [0.01, -1.27]   \n3513   [0.14, -1.27]   [0.16, -1.27]   [0.15, -1.27]   [0.15, -1.27]   \n3514   [0.14, -1.27]   [0.13, -1.27]    [0.1, -1.27]   [0.09, -1.27]   \n\n               read8           read9  \n0       [0.19, 0.42]    [0.19, 0.01]  \n1      [-0.23, -0.2]  [-0.12, -0.31]  \n2     [-0.01, -0.05]   [-0.11, 0.46]  \n3     [-0.46, -0.18]  [-0.52, -0.15]  \n4     [-0.59, -0.25]  [-0.56, -0.22]  \n...              ...             ...  \n3510   [0.08, -1.27]   [0.09, -1.27]  \n3511  [-1.18, -0.71]  [-0.35, -1.27]  \n3512   [0.01, -1.27]   [-0.8, -1.07]  \n3513   [0.15, -1.27]   [0.15, -1.27]  \n3514   [0.07, -1.27]   [0.04, -1.27]  \n\n[3515 rows x 10 columns]",
      "text/html": "<div>\n<style scoped>\n    .dataframe tbody tr th:only-of-type {\n        vertical-align: middle;\n    }\n\n    .dataframe tbody tr th {\n        vertical-align: top;\n    }\n\n    .dataframe thead th {\n        text-align: right;\n    }\n</style>\n<table border=\"1\" class=\"dataframe\">\n  <thead>\n    <tr style=\"text-align: right;\">\n      <th></th>\n      <th>read0</th>\n      <th>read1</th>\n      <th>read2</th>\n      <th>read3</th>\n      <th>read4</th>\n      <th>read5</th>\n      <th>read6</th>\n      <th>read7</th>\n      <th>read8</th>\n      <th>read9</th>\n    </tr>\n  </thead>\n  <tbody>\n    <tr>\n      <th>0</th>\n      <td>[-0.29, -0.07]</td>\n      <td>[0.24, -0.62]</td>\n      <td>[-0.29, 0.14]</td>\n      <td>[0.1, 0.14]</td>\n      <td>[0.41, -0.45]</td>\n      <td>[0.41, 0.22]</td>\n      <td>[0.36, 0.03]</td>\n      <td>[0.37, 0.42]</td>\n      <td>[0.19, 0.42]</td>\n      <td>[0.19, 0.01]</td>\n    </tr>\n    <tr>\n      <th>1</th>\n      <td>[-0.25, -0.04]</td>\n      <td>[0.04, 0.19]</td>\n      <td>[0.11, 0.19]</td>\n      <td>[-0.23, 0.07]</td>\n      <td>[-0.23, -0.38]</td>\n      <td>[-0.48, -0.37]</td>\n      <td>[-0.42, -0.33]</td>\n      <td>[-0.23, -0.33]</td>\n      <td>[-0.23, -0.2]</td>\n      <td>[-0.12, -0.31]</td>\n    </tr>\n    <tr>\n      <th>2</th>\n      <td>[-0.59, -0.27]</td>\n      <td>[-0.42, -0.27]</td>\n      <td>[-0.42, -0.34]</td>\n      <td>[-0.35, -0.37]</td>\n      <td>[-0.39, -0.36]</td>\n      <td>[-0.47, -0.36]</td>\n      <td>[-0.12, -0.39]</td>\n      <td>[-0.12, -0.06]</td>\n      <td>[-0.01, -0.05]</td>\n      <td>[-0.11, 0.46]</td>\n    </tr>\n    <tr>\n      <th>3</th>\n      <td>[-0.2, -0.15]</td>\n      <td>[-0.44, -0.31]</td>\n      <td>[-0.65, -0.31]</td>\n      <td>[-0.7, -0.17]</td>\n      <td>[-0.7, -0.15]</td>\n      <td>[-0.63, -0.12]</td>\n      <td>[-0.56, -0.13]</td>\n      <td>[-0.46, -0.13]</td>\n      <td>[-0.46, -0.18]</td>\n      <td>[-0.52, -0.15]</td>\n    </tr>\n    <tr>\n      <th>4</th>\n      <td>[-0.35, -0.19]</td>\n      <td>[-0.61, -0.19]</td>\n      <td>[-0.61, -0.15]</td>\n      <td>[-0.61, -0.13]</td>\n      <td>[-0.59, -0.15]</td>\n      <td>[-0.56, -0.15]</td>\n      <td>[0.44, 0.27]</td>\n      <td>[0.44, 0.15]</td>\n      <td>[-0.59, -0.25]</td>\n      <td>[-0.56, -0.22]</td>\n    </tr>\n    <tr>\n      <th>...</th>\n      <td>...</td>\n      <td>...</td>\n      <td>...</td>\n      <td>...</td>\n      <td>...</td>\n      <td>...</td>\n      <td>...</td>\n      <td>...</td>\n      <td>...</td>\n      <td>...</td>\n    </tr>\n    <tr>\n      <th>3510</th>\n      <td>[0.08, -1.27]</td>\n      <td>[0.07, -1.27]</td>\n      <td>[0.07, -1.27]</td>\n      <td>[0.08, -1.27]</td>\n      <td>[0.08, -1.27]</td>\n      <td>[0.07, -1.27]</td>\n      <td>[0.08, -1.27]</td>\n      <td>[0.1, -1.27]</td>\n      <td>[0.08, -1.27]</td>\n      <td>[0.09, -1.27]</td>\n    </tr>\n    <tr>\n      <th>3511</th>\n      <td>[0.02, -1.27]</td>\n      <td>[0.25, -1.27]</td>\n      <td>[0.18, -1.27]</td>\n      <td>[0.17, -1.27]</td>\n      <td>[0.19, -1.27]</td>\n      <td>[0.18, -1.27]</td>\n      <td>[0.18, -1.27]</td>\n      <td>[0.06, -1.14]</td>\n      <td>[-1.18, -0.71]</td>\n      <td>[-0.35, -1.27]</td>\n    </tr>\n    <tr>\n      <th>3512</th>\n      <td>[-0.04, -1.27]</td>\n      <td>[0.03, -1.27]</td>\n      <td>[0.02, -1.27]</td>\n      <td>[0.02, -1.27]</td>\n      <td>[0, -1.27]</td>\n      <td>[0.02, -1.27]</td>\n      <td>[0.01, -1.27]</td>\n      <td>[0.01, -1.27]</td>\n      <td>[0.01, -1.27]</td>\n      <td>[-0.8, -1.07]</td>\n    </tr>\n    <tr>\n      <th>3513</th>\n      <td>[-0.09, -1.18]</td>\n      <td>[0.14, -1.27]</td>\n      <td>[0.16, -1.27]</td>\n      <td>[0.15, -1.27]</td>\n      <td>[0.14, -1.27]</td>\n      <td>[0.16, -1.27]</td>\n      <td>[0.15, -1.27]</td>\n      <td>[0.15, -1.27]</td>\n      <td>[0.15, -1.27]</td>\n      <td>[0.15, -1.27]</td>\n    </tr>\n    <tr>\n      <th>3514</th>\n      <td>[0.15, -1.27]</td>\n      <td>[0.15, -1.27]</td>\n      <td>[0.14, -1.27]</td>\n      <td>[0.15, -1.27]</td>\n      <td>[0.14, -1.27]</td>\n      <td>[0.13, -1.27]</td>\n      <td>[0.1, -1.27]</td>\n      <td>[0.09, -1.27]</td>\n      <td>[0.07, -1.27]</td>\n      <td>[0.04, -1.27]</td>\n    </tr>\n  </tbody>\n</table>\n<p>3515 rows × 10 columns</p>\n</div>"
     },
     "execution_count": 43,
     "metadata": {},
     "output_type": "execute_result"
    }
   ],
   "source": [
    "df_reads = df_raw.iloc[:, :10]\n",
    "for name, column in df_reads.iteritems():\n",
    "    column = column.apply(literal_eval)\n",
    "    df_reads[name] = column\n",
    "df_reads"
   ],
   "metadata": {
    "collapsed": false
   }
  },
  {
   "cell_type": "code",
   "execution_count": 44,
   "outputs": [
    {
     "name": "stdout",
     "output_type": "stream",
     "text": [
      "Value: [-0.29, -0.07] \n",
      "Type: <class 'list'> \n",
      "\n",
      "Element value: -0.29 \n",
      "Element type: <class 'float'>\n"
     ]
    }
   ],
   "source": [
    "print(f\"Value: {df_reads.iloc[0]['read0']} \\n\"\n",
    "      f\"Type: {type(df_reads.iloc[0]['read0'])} \\n\"\n",
    "      f\"\\n\"\n",
    "      f\"Element value: {df_reads.iloc[0]['read0'][0]} \\n\"\n",
    "      f\"Element type: {type(df_reads.iloc[0]['read0'][0])}\")"
   ],
   "metadata": {
    "collapsed": false
   }
  },
  {
   "cell_type": "markdown",
   "source": [
    "Now lets put the remaining columns of df_raw and create a few more"
   ],
   "metadata": {
    "collapsed": false
   }
  },
  {
   "cell_type": "markdown",
   "source": [
    "## Preparing df_min_max\n",
    "Dataset containing the values of t_end and t_start outside lists\n",
    "\n",
    "The motivation to create this dataset is to analyze each value (min or max), indivudally, because these values inside a list make the analysis more difficult."
   ],
   "metadata": {
    "collapsed": false
   }
  },
  {
   "cell_type": "code",
   "execution_count": 45,
   "outputs": [
    {
     "data": {
      "text/plain": "     read0 read1 read2 read3 read4 read5 read6 read7 read8 read9\n0    -0.29  0.24 -0.29   0.1  0.41  0.41  0.36  0.37  0.19  0.19\n0    -0.07 -0.62  0.14  0.14 -0.45  0.22  0.03  0.42  0.42  0.01\n1    -0.25  0.04  0.11 -0.23 -0.23 -0.48 -0.42 -0.23 -0.23 -0.12\n1    -0.04  0.19  0.19  0.07 -0.38 -0.37 -0.33 -0.33  -0.2 -0.31\n2    -0.59 -0.42 -0.42 -0.35 -0.39 -0.47 -0.12 -0.12 -0.01 -0.11\n...    ...   ...   ...   ...   ...   ...   ...   ...   ...   ...\n3512 -1.27 -1.27 -1.27 -1.27 -1.27 -1.27 -1.27 -1.27 -1.27 -1.07\n3513 -0.09  0.14  0.16  0.15  0.14  0.16  0.15  0.15  0.15  0.15\n3513 -1.18 -1.27 -1.27 -1.27 -1.27 -1.27 -1.27 -1.27 -1.27 -1.27\n3514  0.15  0.15  0.14  0.15  0.14  0.13   0.1  0.09  0.07  0.04\n3514 -1.27 -1.27 -1.27 -1.27 -1.27 -1.27 -1.27 -1.27 -1.27 -1.27\n\n[7030 rows x 10 columns]",
      "text/html": "<div>\n<style scoped>\n    .dataframe tbody tr th:only-of-type {\n        vertical-align: middle;\n    }\n\n    .dataframe tbody tr th {\n        vertical-align: top;\n    }\n\n    .dataframe thead th {\n        text-align: right;\n    }\n</style>\n<table border=\"1\" class=\"dataframe\">\n  <thead>\n    <tr style=\"text-align: right;\">\n      <th></th>\n      <th>read0</th>\n      <th>read1</th>\n      <th>read2</th>\n      <th>read3</th>\n      <th>read4</th>\n      <th>read5</th>\n      <th>read6</th>\n      <th>read7</th>\n      <th>read8</th>\n      <th>read9</th>\n    </tr>\n  </thead>\n  <tbody>\n    <tr>\n      <th>0</th>\n      <td>-0.29</td>\n      <td>0.24</td>\n      <td>-0.29</td>\n      <td>0.1</td>\n      <td>0.41</td>\n      <td>0.41</td>\n      <td>0.36</td>\n      <td>0.37</td>\n      <td>0.19</td>\n      <td>0.19</td>\n    </tr>\n    <tr>\n      <th>0</th>\n      <td>-0.07</td>\n      <td>-0.62</td>\n      <td>0.14</td>\n      <td>0.14</td>\n      <td>-0.45</td>\n      <td>0.22</td>\n      <td>0.03</td>\n      <td>0.42</td>\n      <td>0.42</td>\n      <td>0.01</td>\n    </tr>\n    <tr>\n      <th>1</th>\n      <td>-0.25</td>\n      <td>0.04</td>\n      <td>0.11</td>\n      <td>-0.23</td>\n      <td>-0.23</td>\n      <td>-0.48</td>\n      <td>-0.42</td>\n      <td>-0.23</td>\n      <td>-0.23</td>\n      <td>-0.12</td>\n    </tr>\n    <tr>\n      <th>1</th>\n      <td>-0.04</td>\n      <td>0.19</td>\n      <td>0.19</td>\n      <td>0.07</td>\n      <td>-0.38</td>\n      <td>-0.37</td>\n      <td>-0.33</td>\n      <td>-0.33</td>\n      <td>-0.2</td>\n      <td>-0.31</td>\n    </tr>\n    <tr>\n      <th>2</th>\n      <td>-0.59</td>\n      <td>-0.42</td>\n      <td>-0.42</td>\n      <td>-0.35</td>\n      <td>-0.39</td>\n      <td>-0.47</td>\n      <td>-0.12</td>\n      <td>-0.12</td>\n      <td>-0.01</td>\n      <td>-0.11</td>\n    </tr>\n    <tr>\n      <th>...</th>\n      <td>...</td>\n      <td>...</td>\n      <td>...</td>\n      <td>...</td>\n      <td>...</td>\n      <td>...</td>\n      <td>...</td>\n      <td>...</td>\n      <td>...</td>\n      <td>...</td>\n    </tr>\n    <tr>\n      <th>3512</th>\n      <td>-1.27</td>\n      <td>-1.27</td>\n      <td>-1.27</td>\n      <td>-1.27</td>\n      <td>-1.27</td>\n      <td>-1.27</td>\n      <td>-1.27</td>\n      <td>-1.27</td>\n      <td>-1.27</td>\n      <td>-1.07</td>\n    </tr>\n    <tr>\n      <th>3513</th>\n      <td>-0.09</td>\n      <td>0.14</td>\n      <td>0.16</td>\n      <td>0.15</td>\n      <td>0.14</td>\n      <td>0.16</td>\n      <td>0.15</td>\n      <td>0.15</td>\n      <td>0.15</td>\n      <td>0.15</td>\n    </tr>\n    <tr>\n      <th>3513</th>\n      <td>-1.18</td>\n      <td>-1.27</td>\n      <td>-1.27</td>\n      <td>-1.27</td>\n      <td>-1.27</td>\n      <td>-1.27</td>\n      <td>-1.27</td>\n      <td>-1.27</td>\n      <td>-1.27</td>\n      <td>-1.27</td>\n    </tr>\n    <tr>\n      <th>3514</th>\n      <td>0.15</td>\n      <td>0.15</td>\n      <td>0.14</td>\n      <td>0.15</td>\n      <td>0.14</td>\n      <td>0.13</td>\n      <td>0.1</td>\n      <td>0.09</td>\n      <td>0.07</td>\n      <td>0.04</td>\n    </tr>\n    <tr>\n      <th>3514</th>\n      <td>-1.27</td>\n      <td>-1.27</td>\n      <td>-1.27</td>\n      <td>-1.27</td>\n      <td>-1.27</td>\n      <td>-1.27</td>\n      <td>-1.27</td>\n      <td>-1.27</td>\n      <td>-1.27</td>\n      <td>-1.27</td>\n    </tr>\n  </tbody>\n</table>\n<p>7030 rows × 10 columns</p>\n</div>"
     },
     "execution_count": 45,
     "metadata": {},
     "output_type": "execute_result"
    }
   ],
   "source": [
    "df_start_end = df_reads.apply(pd.Series.explode)\n",
    "df_start_end.to_csv('../assets/df_start_end.csv')\n",
    "df_start_end"
   ],
   "metadata": {
    "collapsed": false
   }
  },
  {
   "cell_type": "markdown",
   "source": [
    "## Preparing df_diff\n",
    "Dataset containing in each cell the difference between the values of t_end and t_start\n",
    "\n",
    "The motivation to create this dataset is to create features that can be input to a machine learning model. Lists cannot be used as input. The difference between these values can be a promising feature to get good results for our models."
   ],
   "metadata": {
    "collapsed": false
   }
  },
  {
   "cell_type": "code",
   "execution_count": 46,
   "outputs": [
    {
     "data": {
      "text/plain": "      diff_read0  diff_read1  diff_read2  diff_read3  diff_read4  diff_read5  \\\n0           0.22       -0.86        0.43        0.04       -0.86       -0.19   \n1           0.21        0.15        0.08        0.30       -0.15        0.11   \n2           0.32        0.15        0.08       -0.02        0.03        0.11   \n3           0.05        0.13        0.34        0.53        0.55        0.51   \n4           0.16        0.42        0.46        0.48        0.44        0.41   \n...          ...         ...         ...         ...         ...         ...   \n3510       -1.35       -1.34       -1.34       -1.35       -1.35       -1.34   \n3511       -1.29       -1.52       -1.45       -1.44       -1.46       -1.45   \n3512       -1.23       -1.30       -1.29       -1.29       -1.27       -1.29   \n3513       -1.09       -1.41       -1.43       -1.42       -1.41       -1.43   \n3514       -1.42       -1.42       -1.41       -1.42       -1.41       -1.40   \n\n      diff_read6  diff_read7  diff_read8  diff_read9   mean  start_timestamp  \\\n0          -0.33        0.05        0.23       -0.18 -0.145       1665656955   \n1           0.09       -0.10        0.03       -0.19  0.053       1665656968   \n2          -0.27        0.06       -0.04        0.57  0.099       1665656982   \n3           0.43        0.33        0.28        0.37  0.352       1665656914   \n4          -0.17       -0.29        0.34        0.34  0.259       1665656928   \n...          ...         ...         ...         ...    ...              ...   \n3510       -1.35       -1.37       -1.35       -1.36 -1.350       1674811711   \n3511       -1.45       -1.20        0.47       -0.92 -1.171       1674811725   \n3512       -1.28       -1.28       -1.28       -0.27 -1.178       1674811654   \n3513       -1.42       -1.42       -1.42       -1.42 -1.387       1674811669   \n3514       -1.37       -1.36       -1.34       -1.31 -1.386       1674811683   \n\n      end_timestamp  diff_timestemp  inference  \n0        1665656967              12          1  \n1        1665656980              12          1  \n2        1665656994              12          1  \n3        1665656926              12          1  \n4        1665656940              12          1  \n...             ...             ...        ...  \n3510     1674811723              12          0  \n3511     1674811737              12          1  \n3512     1674811667              13          1  \n3513     1674811681              12          1  \n3514     1674811695              12          0  \n\n[3515 rows x 15 columns]",
      "text/html": "<div>\n<style scoped>\n    .dataframe tbody tr th:only-of-type {\n        vertical-align: middle;\n    }\n\n    .dataframe tbody tr th {\n        vertical-align: top;\n    }\n\n    .dataframe thead th {\n        text-align: right;\n    }\n</style>\n<table border=\"1\" class=\"dataframe\">\n  <thead>\n    <tr style=\"text-align: right;\">\n      <th></th>\n      <th>diff_read0</th>\n      <th>diff_read1</th>\n      <th>diff_read2</th>\n      <th>diff_read3</th>\n      <th>diff_read4</th>\n      <th>diff_read5</th>\n      <th>diff_read6</th>\n      <th>diff_read7</th>\n      <th>diff_read8</th>\n      <th>diff_read9</th>\n      <th>mean</th>\n      <th>start_timestamp</th>\n      <th>end_timestamp</th>\n      <th>diff_timestemp</th>\n      <th>inference</th>\n    </tr>\n  </thead>\n  <tbody>\n    <tr>\n      <th>0</th>\n      <td>0.22</td>\n      <td>-0.86</td>\n      <td>0.43</td>\n      <td>0.04</td>\n      <td>-0.86</td>\n      <td>-0.19</td>\n      <td>-0.33</td>\n      <td>0.05</td>\n      <td>0.23</td>\n      <td>-0.18</td>\n      <td>-0.145</td>\n      <td>1665656955</td>\n      <td>1665656967</td>\n      <td>12</td>\n      <td>1</td>\n    </tr>\n    <tr>\n      <th>1</th>\n      <td>0.21</td>\n      <td>0.15</td>\n      <td>0.08</td>\n      <td>0.30</td>\n      <td>-0.15</td>\n      <td>0.11</td>\n      <td>0.09</td>\n      <td>-0.10</td>\n      <td>0.03</td>\n      <td>-0.19</td>\n      <td>0.053</td>\n      <td>1665656968</td>\n      <td>1665656980</td>\n      <td>12</td>\n      <td>1</td>\n    </tr>\n    <tr>\n      <th>2</th>\n      <td>0.32</td>\n      <td>0.15</td>\n      <td>0.08</td>\n      <td>-0.02</td>\n      <td>0.03</td>\n      <td>0.11</td>\n      <td>-0.27</td>\n      <td>0.06</td>\n      <td>-0.04</td>\n      <td>0.57</td>\n      <td>0.099</td>\n      <td>1665656982</td>\n      <td>1665656994</td>\n      <td>12</td>\n      <td>1</td>\n    </tr>\n    <tr>\n      <th>3</th>\n      <td>0.05</td>\n      <td>0.13</td>\n      <td>0.34</td>\n      <td>0.53</td>\n      <td>0.55</td>\n      <td>0.51</td>\n      <td>0.43</td>\n      <td>0.33</td>\n      <td>0.28</td>\n      <td>0.37</td>\n      <td>0.352</td>\n      <td>1665656914</td>\n      <td>1665656926</td>\n      <td>12</td>\n      <td>1</td>\n    </tr>\n    <tr>\n      <th>4</th>\n      <td>0.16</td>\n      <td>0.42</td>\n      <td>0.46</td>\n      <td>0.48</td>\n      <td>0.44</td>\n      <td>0.41</td>\n      <td>-0.17</td>\n      <td>-0.29</td>\n      <td>0.34</td>\n      <td>0.34</td>\n      <td>0.259</td>\n      <td>1665656928</td>\n      <td>1665656940</td>\n      <td>12</td>\n      <td>1</td>\n    </tr>\n    <tr>\n      <th>...</th>\n      <td>...</td>\n      <td>...</td>\n      <td>...</td>\n      <td>...</td>\n      <td>...</td>\n      <td>...</td>\n      <td>...</td>\n      <td>...</td>\n      <td>...</td>\n      <td>...</td>\n      <td>...</td>\n      <td>...</td>\n      <td>...</td>\n      <td>...</td>\n      <td>...</td>\n    </tr>\n    <tr>\n      <th>3510</th>\n      <td>-1.35</td>\n      <td>-1.34</td>\n      <td>-1.34</td>\n      <td>-1.35</td>\n      <td>-1.35</td>\n      <td>-1.34</td>\n      <td>-1.35</td>\n      <td>-1.37</td>\n      <td>-1.35</td>\n      <td>-1.36</td>\n      <td>-1.350</td>\n      <td>1674811711</td>\n      <td>1674811723</td>\n      <td>12</td>\n      <td>0</td>\n    </tr>\n    <tr>\n      <th>3511</th>\n      <td>-1.29</td>\n      <td>-1.52</td>\n      <td>-1.45</td>\n      <td>-1.44</td>\n      <td>-1.46</td>\n      <td>-1.45</td>\n      <td>-1.45</td>\n      <td>-1.20</td>\n      <td>0.47</td>\n      <td>-0.92</td>\n      <td>-1.171</td>\n      <td>1674811725</td>\n      <td>1674811737</td>\n      <td>12</td>\n      <td>1</td>\n    </tr>\n    <tr>\n      <th>3512</th>\n      <td>-1.23</td>\n      <td>-1.30</td>\n      <td>-1.29</td>\n      <td>-1.29</td>\n      <td>-1.27</td>\n      <td>-1.29</td>\n      <td>-1.28</td>\n      <td>-1.28</td>\n      <td>-1.28</td>\n      <td>-0.27</td>\n      <td>-1.178</td>\n      <td>1674811654</td>\n      <td>1674811667</td>\n      <td>13</td>\n      <td>1</td>\n    </tr>\n    <tr>\n      <th>3513</th>\n      <td>-1.09</td>\n      <td>-1.41</td>\n      <td>-1.43</td>\n      <td>-1.42</td>\n      <td>-1.41</td>\n      <td>-1.43</td>\n      <td>-1.42</td>\n      <td>-1.42</td>\n      <td>-1.42</td>\n      <td>-1.42</td>\n      <td>-1.387</td>\n      <td>1674811669</td>\n      <td>1674811681</td>\n      <td>12</td>\n      <td>1</td>\n    </tr>\n    <tr>\n      <th>3514</th>\n      <td>-1.42</td>\n      <td>-1.42</td>\n      <td>-1.41</td>\n      <td>-1.42</td>\n      <td>-1.41</td>\n      <td>-1.40</td>\n      <td>-1.37</td>\n      <td>-1.36</td>\n      <td>-1.34</td>\n      <td>-1.31</td>\n      <td>-1.386</td>\n      <td>1674811683</td>\n      <td>1674811695</td>\n      <td>12</td>\n      <td>0</td>\n    </tr>\n  </tbody>\n</table>\n<p>3515 rows × 15 columns</p>\n</div>"
     },
     "execution_count": 46,
     "metadata": {},
     "output_type": "execute_result"
    }
   ],
   "source": [
    "df_diff = df_reads.copy()\n",
    "\n",
    "df_diff = df_diff.apply(lambda x: x.apply(lambda y: y[1] - y[0]))\n",
    "df_diff['mean'] = df_diff.mean(axis=1)\n",
    "# change column names: read0 -> diff_read0\n",
    "df_diff.columns = df_diff.columns.str.replace('read', 'diff_read')\n",
    "df_diff['start_timestamp'] = df_raw['start_timestamp']\n",
    "df_diff['end_timestamp'] = df_raw['end_timestamp']\n",
    "df_diff['diff_timestemp'] = df_diff['end_timestamp'] - df_diff['start_timestamp']\n",
    "df_diff['inference'] = df_raw['inference']\n",
    "\n",
    "df_diff.to_csv('../assets/df_diff.csv')\n",
    "df_diff"
   ],
   "metadata": {
    "collapsed": false
   }
  }
 ],
 "metadata": {
  "kernelspec": {
   "display_name": "Python 3",
   "language": "python",
   "name": "python3"
  },
  "language_info": {
   "codemirror_mode": {
    "name": "ipython",
    "version": 2
   },
   "file_extension": ".py",
   "mimetype": "text/x-python",
   "name": "python",
   "nbconvert_exporter": "python",
   "pygments_lexer": "ipython2",
   "version": "2.7.6"
  }
 },
 "nbformat": 4,
 "nbformat_minor": 0
}
