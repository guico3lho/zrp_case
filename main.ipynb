{
 "cells": [
  {
   "cell_type": "markdown",
   "source": [
    "## Informations and Conventions\n",
    "https://zrp.github.io/challenges/data-science/\n",
    "\n",
    "For convention:\n",
    " * labels = 1 will be considered **POSITIVE** cases\n",
    " * labels = 0 will be considered **NEGATIVE** cases."
   ],
   "metadata": {
    "collapsed": false
   }
  },
  {
   "cell_type": "markdown",
   "source": [
    "## Read dataset and brief analysis"
   ],
   "metadata": {
    "collapsed": false
   }
  },
  {
   "cell_type": "markdown",
   "source": [
    "### Packages"
   ],
   "metadata": {
    "collapsed": false
   }
  },
  {
   "cell_type": "code",
   "execution_count": 2,
   "outputs": [],
   "source": [
    "import pandas as pd\n",
    "import plotly.express as plotly\n"
   ],
   "metadata": {
    "collapsed": false
   }
  },
  {
   "cell_type": "markdown",
   "source": [
    "### Functions"
   ],
   "metadata": {
    "collapsed": false
   }
  },
  {
   "cell_type": "code",
   "execution_count": 3,
   "outputs": [
    {
     "data": {
      "text/plain": "               read0           read1           read2           read3  \\\n0     [-0.29, -0.07]   [0.24, -0.62]   [-0.29, 0.14]     [0.1, 0.14]   \n1     [-0.25, -0.04]    [0.04, 0.19]    [0.11, 0.19]   [-0.23, 0.07]   \n2     [-0.59, -0.27]  [-0.42, -0.27]  [-0.42, -0.34]  [-0.35, -0.37]   \n3      [-0.2, -0.15]  [-0.44, -0.31]  [-0.65, -0.31]   [-0.7, -0.17]   \n4     [-0.35, -0.19]  [-0.61, -0.19]  [-0.61, -0.15]  [-0.61, -0.13]   \n...              ...             ...             ...             ...   \n3510   [0.08, -1.27]   [0.07, -1.27]   [0.07, -1.27]   [0.08, -1.27]   \n3511   [0.02, -1.27]   [0.25, -1.27]   [0.18, -1.27]   [0.17, -1.27]   \n3512  [-0.04, -1.27]   [0.03, -1.27]   [0.02, -1.27]   [0.02, -1.27]   \n3513  [-0.09, -1.18]   [0.14, -1.27]   [0.16, -1.27]   [0.15, -1.27]   \n3514   [0.15, -1.27]   [0.15, -1.27]   [0.14, -1.27]   [0.15, -1.27]   \n\n               read4           read5           read6           read7  \\\n0      [0.41, -0.45]    [0.41, 0.22]    [0.36, 0.03]    [0.37, 0.42]   \n1     [-0.23, -0.38]  [-0.48, -0.37]  [-0.42, -0.33]  [-0.23, -0.33]   \n2     [-0.39, -0.36]  [-0.47, -0.36]  [-0.12, -0.39]  [-0.12, -0.06]   \n3      [-0.7, -0.15]  [-0.63, -0.12]  [-0.56, -0.13]  [-0.46, -0.13]   \n4     [-0.59, -0.15]  [-0.56, -0.15]    [0.44, 0.27]    [0.44, 0.15]   \n...              ...             ...             ...             ...   \n3510   [0.08, -1.27]   [0.07, -1.27]   [0.08, -1.27]    [0.1, -1.27]   \n3511   [0.19, -1.27]   [0.18, -1.27]   [0.18, -1.27]   [0.06, -1.14]   \n3512      [0, -1.27]   [0.02, -1.27]   [0.01, -1.27]   [0.01, -1.27]   \n3513   [0.14, -1.27]   [0.16, -1.27]   [0.15, -1.27]   [0.15, -1.27]   \n3514   [0.14, -1.27]   [0.13, -1.27]    [0.1, -1.27]   [0.09, -1.27]   \n\n               read8           read9  start_timestamp  end_timestamp  \\\n0       [0.19, 0.42]    [0.19, 0.01]       1665656955     1665656967   \n1      [-0.23, -0.2]  [-0.12, -0.31]       1665656968     1665656980   \n2     [-0.01, -0.05]   [-0.11, 0.46]       1665656982     1665656994   \n3     [-0.46, -0.18]  [-0.52, -0.15]       1665656914     1665656926   \n4     [-0.59, -0.25]  [-0.56, -0.22]       1665656928     1665656940   \n...              ...             ...              ...            ...   \n3510   [0.08, -1.27]   [0.09, -1.27]       1674811711     1674811723   \n3511  [-1.18, -0.71]  [-0.35, -1.27]       1674811725     1674811737   \n3512   [0.01, -1.27]   [-0.8, -1.07]       1674811654     1674811667   \n3513   [0.15, -1.27]   [0.15, -1.27]       1674811669     1674811681   \n3514   [0.07, -1.27]   [0.04, -1.27]       1674811683     1674811695   \n\n      inference  \n0             1  \n1             1  \n2             1  \n3             1  \n4             1  \n...         ...  \n3510          0  \n3511          1  \n3512          1  \n3513          1  \n3514          0  \n\n[3515 rows x 13 columns]",
      "text/html": "<div>\n<style scoped>\n    .dataframe tbody tr th:only-of-type {\n        vertical-align: middle;\n    }\n\n    .dataframe tbody tr th {\n        vertical-align: top;\n    }\n\n    .dataframe thead th {\n        text-align: right;\n    }\n</style>\n<table border=\"1\" class=\"dataframe\">\n  <thead>\n    <tr style=\"text-align: right;\">\n      <th></th>\n      <th>read0</th>\n      <th>read1</th>\n      <th>read2</th>\n      <th>read3</th>\n      <th>read4</th>\n      <th>read5</th>\n      <th>read6</th>\n      <th>read7</th>\n      <th>read8</th>\n      <th>read9</th>\n      <th>start_timestamp</th>\n      <th>end_timestamp</th>\n      <th>inference</th>\n    </tr>\n  </thead>\n  <tbody>\n    <tr>\n      <th>0</th>\n      <td>[-0.29, -0.07]</td>\n      <td>[0.24, -0.62]</td>\n      <td>[-0.29, 0.14]</td>\n      <td>[0.1, 0.14]</td>\n      <td>[0.41, -0.45]</td>\n      <td>[0.41, 0.22]</td>\n      <td>[0.36, 0.03]</td>\n      <td>[0.37, 0.42]</td>\n      <td>[0.19, 0.42]</td>\n      <td>[0.19, 0.01]</td>\n      <td>1665656955</td>\n      <td>1665656967</td>\n      <td>1</td>\n    </tr>\n    <tr>\n      <th>1</th>\n      <td>[-0.25, -0.04]</td>\n      <td>[0.04, 0.19]</td>\n      <td>[0.11, 0.19]</td>\n      <td>[-0.23, 0.07]</td>\n      <td>[-0.23, -0.38]</td>\n      <td>[-0.48, -0.37]</td>\n      <td>[-0.42, -0.33]</td>\n      <td>[-0.23, -0.33]</td>\n      <td>[-0.23, -0.2]</td>\n      <td>[-0.12, -0.31]</td>\n      <td>1665656968</td>\n      <td>1665656980</td>\n      <td>1</td>\n    </tr>\n    <tr>\n      <th>2</th>\n      <td>[-0.59, -0.27]</td>\n      <td>[-0.42, -0.27]</td>\n      <td>[-0.42, -0.34]</td>\n      <td>[-0.35, -0.37]</td>\n      <td>[-0.39, -0.36]</td>\n      <td>[-0.47, -0.36]</td>\n      <td>[-0.12, -0.39]</td>\n      <td>[-0.12, -0.06]</td>\n      <td>[-0.01, -0.05]</td>\n      <td>[-0.11, 0.46]</td>\n      <td>1665656982</td>\n      <td>1665656994</td>\n      <td>1</td>\n    </tr>\n    <tr>\n      <th>3</th>\n      <td>[-0.2, -0.15]</td>\n      <td>[-0.44, -0.31]</td>\n      <td>[-0.65, -0.31]</td>\n      <td>[-0.7, -0.17]</td>\n      <td>[-0.7, -0.15]</td>\n      <td>[-0.63, -0.12]</td>\n      <td>[-0.56, -0.13]</td>\n      <td>[-0.46, -0.13]</td>\n      <td>[-0.46, -0.18]</td>\n      <td>[-0.52, -0.15]</td>\n      <td>1665656914</td>\n      <td>1665656926</td>\n      <td>1</td>\n    </tr>\n    <tr>\n      <th>4</th>\n      <td>[-0.35, -0.19]</td>\n      <td>[-0.61, -0.19]</td>\n      <td>[-0.61, -0.15]</td>\n      <td>[-0.61, -0.13]</td>\n      <td>[-0.59, -0.15]</td>\n      <td>[-0.56, -0.15]</td>\n      <td>[0.44, 0.27]</td>\n      <td>[0.44, 0.15]</td>\n      <td>[-0.59, -0.25]</td>\n      <td>[-0.56, -0.22]</td>\n      <td>1665656928</td>\n      <td>1665656940</td>\n      <td>1</td>\n    </tr>\n    <tr>\n      <th>...</th>\n      <td>...</td>\n      <td>...</td>\n      <td>...</td>\n      <td>...</td>\n      <td>...</td>\n      <td>...</td>\n      <td>...</td>\n      <td>...</td>\n      <td>...</td>\n      <td>...</td>\n      <td>...</td>\n      <td>...</td>\n      <td>...</td>\n    </tr>\n    <tr>\n      <th>3510</th>\n      <td>[0.08, -1.27]</td>\n      <td>[0.07, -1.27]</td>\n      <td>[0.07, -1.27]</td>\n      <td>[0.08, -1.27]</td>\n      <td>[0.08, -1.27]</td>\n      <td>[0.07, -1.27]</td>\n      <td>[0.08, -1.27]</td>\n      <td>[0.1, -1.27]</td>\n      <td>[0.08, -1.27]</td>\n      <td>[0.09, -1.27]</td>\n      <td>1674811711</td>\n      <td>1674811723</td>\n      <td>0</td>\n    </tr>\n    <tr>\n      <th>3511</th>\n      <td>[0.02, -1.27]</td>\n      <td>[0.25, -1.27]</td>\n      <td>[0.18, -1.27]</td>\n      <td>[0.17, -1.27]</td>\n      <td>[0.19, -1.27]</td>\n      <td>[0.18, -1.27]</td>\n      <td>[0.18, -1.27]</td>\n      <td>[0.06, -1.14]</td>\n      <td>[-1.18, -0.71]</td>\n      <td>[-0.35, -1.27]</td>\n      <td>1674811725</td>\n      <td>1674811737</td>\n      <td>1</td>\n    </tr>\n    <tr>\n      <th>3512</th>\n      <td>[-0.04, -1.27]</td>\n      <td>[0.03, -1.27]</td>\n      <td>[0.02, -1.27]</td>\n      <td>[0.02, -1.27]</td>\n      <td>[0, -1.27]</td>\n      <td>[0.02, -1.27]</td>\n      <td>[0.01, -1.27]</td>\n      <td>[0.01, -1.27]</td>\n      <td>[0.01, -1.27]</td>\n      <td>[-0.8, -1.07]</td>\n      <td>1674811654</td>\n      <td>1674811667</td>\n      <td>1</td>\n    </tr>\n    <tr>\n      <th>3513</th>\n      <td>[-0.09, -1.18]</td>\n      <td>[0.14, -1.27]</td>\n      <td>[0.16, -1.27]</td>\n      <td>[0.15, -1.27]</td>\n      <td>[0.14, -1.27]</td>\n      <td>[0.16, -1.27]</td>\n      <td>[0.15, -1.27]</td>\n      <td>[0.15, -1.27]</td>\n      <td>[0.15, -1.27]</td>\n      <td>[0.15, -1.27]</td>\n      <td>1674811669</td>\n      <td>1674811681</td>\n      <td>1</td>\n    </tr>\n    <tr>\n      <th>3514</th>\n      <td>[0.15, -1.27]</td>\n      <td>[0.15, -1.27]</td>\n      <td>[0.14, -1.27]</td>\n      <td>[0.15, -1.27]</td>\n      <td>[0.14, -1.27]</td>\n      <td>[0.13, -1.27]</td>\n      <td>[0.1, -1.27]</td>\n      <td>[0.09, -1.27]</td>\n      <td>[0.07, -1.27]</td>\n      <td>[0.04, -1.27]</td>\n      <td>1674811683</td>\n      <td>1674811695</td>\n      <td>0</td>\n    </tr>\n  </tbody>\n</table>\n<p>3515 rows × 13 columns</p>\n</div>"
     },
     "execution_count": 3,
     "metadata": {},
     "output_type": "execute_result"
    }
   ],
   "source": [
    "df_raw = pd.read_csv('https://raw.githubusercontent.com/zrp/challenges/master/data-science/data.csv')\n",
    "df_raw"
   ],
   "metadata": {
    "collapsed": false
   }
  },
  {
   "cell_type": "markdown",
   "source": [
    "### Balancement of dataset"
   ],
   "metadata": {
    "collapsed": false
   }
  },
  {
   "cell_type": "code",
   "execution_count": 4,
   "outputs": [
    {
     "data": {
      "text/plain": "1    1989\n0    1526\nName: inference, dtype: int64"
     },
     "execution_count": 4,
     "metadata": {},
     "output_type": "execute_result"
    }
   ],
   "source": [
    "df_raw['inference'].value_counts()"
   ],
   "metadata": {
    "collapsed": false
   }
  },
  {
   "cell_type": "markdown",
   "source": [
    "**Notes:** The dataset is relatively balanced, with more positive than negative samples. Thus, it is expected that the machine learning model will be better at classifying positive samples than negative ones."
   ],
   "metadata": {
    "collapsed": false
   }
  },
  {
   "cell_type": "markdown",
   "source": [
    "### Max and min of t_start and t_end\n",
    "I want to see the interval os values for each read of dataset.\n",
    "To do that, the use of explode function is needed to put every value in a cell\n",
    "Then, we can use the min and max functions to see the interval of values for each read\n",
    "\n"
   ],
   "metadata": {
    "collapsed": false
   }
  },
  {
   "cell_type": "code",
   "execution_count": 5,
   "outputs": [
    {
     "name": "stdout",
     "output_type": "stream",
     "text": [
      "Value: [-0.29, -0.07] \n",
      " Type: <class 'str'>\n"
     ]
    }
   ],
   "source": [
    "print('Value:',df_raw.iloc[0]['read0'],'\\n','Type:',type(df_raw.iloc[0]['read0']))"
   ],
   "metadata": {
    "collapsed": false
   }
  },
  {
   "cell_type": "markdown",
   "source": [
    "But, because, as contested above, all the cells of dataset is of type string, we need to convert it to a list of floats"
   ],
   "metadata": {
    "collapsed": false
   }
  },
  {
   "cell_type": "code",
   "execution_count": 6,
   "outputs": [
    {
     "name": "stderr",
     "output_type": "stream",
     "text": [
      "C:\\Users\\guimi\\AppData\\Local\\Temp\\ipykernel_14468\\269520465.py:4: FutureWarning: iteritems is deprecated and will be removed in a future version. Use .items instead.\n",
      "  for name, column in df_float_list.iteritems():\n"
     ]
    },
    {
     "data": {
      "text/plain": "               read0           read1           read2           read3  \\\n0     [-0.29, -0.07]   [0.24, -0.62]   [-0.29, 0.14]     [0.1, 0.14]   \n1     [-0.25, -0.04]    [0.04, 0.19]    [0.11, 0.19]   [-0.23, 0.07]   \n2     [-0.59, -0.27]  [-0.42, -0.27]  [-0.42, -0.34]  [-0.35, -0.37]   \n3      [-0.2, -0.15]  [-0.44, -0.31]  [-0.65, -0.31]   [-0.7, -0.17]   \n4     [-0.35, -0.19]  [-0.61, -0.19]  [-0.61, -0.15]  [-0.61, -0.13]   \n...              ...             ...             ...             ...   \n3510   [0.08, -1.27]   [0.07, -1.27]   [0.07, -1.27]   [0.08, -1.27]   \n3511   [0.02, -1.27]   [0.25, -1.27]   [0.18, -1.27]   [0.17, -1.27]   \n3512  [-0.04, -1.27]   [0.03, -1.27]   [0.02, -1.27]   [0.02, -1.27]   \n3513  [-0.09, -1.18]   [0.14, -1.27]   [0.16, -1.27]   [0.15, -1.27]   \n3514   [0.15, -1.27]   [0.15, -1.27]   [0.14, -1.27]   [0.15, -1.27]   \n\n               read4           read5           read6           read7  \\\n0      [0.41, -0.45]    [0.41, 0.22]    [0.36, 0.03]    [0.37, 0.42]   \n1     [-0.23, -0.38]  [-0.48, -0.37]  [-0.42, -0.33]  [-0.23, -0.33]   \n2     [-0.39, -0.36]  [-0.47, -0.36]  [-0.12, -0.39]  [-0.12, -0.06]   \n3      [-0.7, -0.15]  [-0.63, -0.12]  [-0.56, -0.13]  [-0.46, -0.13]   \n4     [-0.59, -0.15]  [-0.56, -0.15]    [0.44, 0.27]    [0.44, 0.15]   \n...              ...             ...             ...             ...   \n3510   [0.08, -1.27]   [0.07, -1.27]   [0.08, -1.27]    [0.1, -1.27]   \n3511   [0.19, -1.27]   [0.18, -1.27]   [0.18, -1.27]   [0.06, -1.14]   \n3512      [0, -1.27]   [0.02, -1.27]   [0.01, -1.27]   [0.01, -1.27]   \n3513   [0.14, -1.27]   [0.16, -1.27]   [0.15, -1.27]   [0.15, -1.27]   \n3514   [0.14, -1.27]   [0.13, -1.27]    [0.1, -1.27]   [0.09, -1.27]   \n\n               read8           read9  \n0       [0.19, 0.42]    [0.19, 0.01]  \n1      [-0.23, -0.2]  [-0.12, -0.31]  \n2     [-0.01, -0.05]   [-0.11, 0.46]  \n3     [-0.46, -0.18]  [-0.52, -0.15]  \n4     [-0.59, -0.25]  [-0.56, -0.22]  \n...              ...             ...  \n3510   [0.08, -1.27]   [0.09, -1.27]  \n3511  [-1.18, -0.71]  [-0.35, -1.27]  \n3512   [0.01, -1.27]   [-0.8, -1.07]  \n3513   [0.15, -1.27]   [0.15, -1.27]  \n3514   [0.07, -1.27]   [0.04, -1.27]  \n\n[3515 rows x 10 columns]",
      "text/html": "<div>\n<style scoped>\n    .dataframe tbody tr th:only-of-type {\n        vertical-align: middle;\n    }\n\n    .dataframe tbody tr th {\n        vertical-align: top;\n    }\n\n    .dataframe thead th {\n        text-align: right;\n    }\n</style>\n<table border=\"1\" class=\"dataframe\">\n  <thead>\n    <tr style=\"text-align: right;\">\n      <th></th>\n      <th>read0</th>\n      <th>read1</th>\n      <th>read2</th>\n      <th>read3</th>\n      <th>read4</th>\n      <th>read5</th>\n      <th>read6</th>\n      <th>read7</th>\n      <th>read8</th>\n      <th>read9</th>\n    </tr>\n  </thead>\n  <tbody>\n    <tr>\n      <th>0</th>\n      <td>[-0.29, -0.07]</td>\n      <td>[0.24, -0.62]</td>\n      <td>[-0.29, 0.14]</td>\n      <td>[0.1, 0.14]</td>\n      <td>[0.41, -0.45]</td>\n      <td>[0.41, 0.22]</td>\n      <td>[0.36, 0.03]</td>\n      <td>[0.37, 0.42]</td>\n      <td>[0.19, 0.42]</td>\n      <td>[0.19, 0.01]</td>\n    </tr>\n    <tr>\n      <th>1</th>\n      <td>[-0.25, -0.04]</td>\n      <td>[0.04, 0.19]</td>\n      <td>[0.11, 0.19]</td>\n      <td>[-0.23, 0.07]</td>\n      <td>[-0.23, -0.38]</td>\n      <td>[-0.48, -0.37]</td>\n      <td>[-0.42, -0.33]</td>\n      <td>[-0.23, -0.33]</td>\n      <td>[-0.23, -0.2]</td>\n      <td>[-0.12, -0.31]</td>\n    </tr>\n    <tr>\n      <th>2</th>\n      <td>[-0.59, -0.27]</td>\n      <td>[-0.42, -0.27]</td>\n      <td>[-0.42, -0.34]</td>\n      <td>[-0.35, -0.37]</td>\n      <td>[-0.39, -0.36]</td>\n      <td>[-0.47, -0.36]</td>\n      <td>[-0.12, -0.39]</td>\n      <td>[-0.12, -0.06]</td>\n      <td>[-0.01, -0.05]</td>\n      <td>[-0.11, 0.46]</td>\n    </tr>\n    <tr>\n      <th>3</th>\n      <td>[-0.2, -0.15]</td>\n      <td>[-0.44, -0.31]</td>\n      <td>[-0.65, -0.31]</td>\n      <td>[-0.7, -0.17]</td>\n      <td>[-0.7, -0.15]</td>\n      <td>[-0.63, -0.12]</td>\n      <td>[-0.56, -0.13]</td>\n      <td>[-0.46, -0.13]</td>\n      <td>[-0.46, -0.18]</td>\n      <td>[-0.52, -0.15]</td>\n    </tr>\n    <tr>\n      <th>4</th>\n      <td>[-0.35, -0.19]</td>\n      <td>[-0.61, -0.19]</td>\n      <td>[-0.61, -0.15]</td>\n      <td>[-0.61, -0.13]</td>\n      <td>[-0.59, -0.15]</td>\n      <td>[-0.56, -0.15]</td>\n      <td>[0.44, 0.27]</td>\n      <td>[0.44, 0.15]</td>\n      <td>[-0.59, -0.25]</td>\n      <td>[-0.56, -0.22]</td>\n    </tr>\n    <tr>\n      <th>...</th>\n      <td>...</td>\n      <td>...</td>\n      <td>...</td>\n      <td>...</td>\n      <td>...</td>\n      <td>...</td>\n      <td>...</td>\n      <td>...</td>\n      <td>...</td>\n      <td>...</td>\n    </tr>\n    <tr>\n      <th>3510</th>\n      <td>[0.08, -1.27]</td>\n      <td>[0.07, -1.27]</td>\n      <td>[0.07, -1.27]</td>\n      <td>[0.08, -1.27]</td>\n      <td>[0.08, -1.27]</td>\n      <td>[0.07, -1.27]</td>\n      <td>[0.08, -1.27]</td>\n      <td>[0.1, -1.27]</td>\n      <td>[0.08, -1.27]</td>\n      <td>[0.09, -1.27]</td>\n    </tr>\n    <tr>\n      <th>3511</th>\n      <td>[0.02, -1.27]</td>\n      <td>[0.25, -1.27]</td>\n      <td>[0.18, -1.27]</td>\n      <td>[0.17, -1.27]</td>\n      <td>[0.19, -1.27]</td>\n      <td>[0.18, -1.27]</td>\n      <td>[0.18, -1.27]</td>\n      <td>[0.06, -1.14]</td>\n      <td>[-1.18, -0.71]</td>\n      <td>[-0.35, -1.27]</td>\n    </tr>\n    <tr>\n      <th>3512</th>\n      <td>[-0.04, -1.27]</td>\n      <td>[0.03, -1.27]</td>\n      <td>[0.02, -1.27]</td>\n      <td>[0.02, -1.27]</td>\n      <td>[0, -1.27]</td>\n      <td>[0.02, -1.27]</td>\n      <td>[0.01, -1.27]</td>\n      <td>[0.01, -1.27]</td>\n      <td>[0.01, -1.27]</td>\n      <td>[-0.8, -1.07]</td>\n    </tr>\n    <tr>\n      <th>3513</th>\n      <td>[-0.09, -1.18]</td>\n      <td>[0.14, -1.27]</td>\n      <td>[0.16, -1.27]</td>\n      <td>[0.15, -1.27]</td>\n      <td>[0.14, -1.27]</td>\n      <td>[0.16, -1.27]</td>\n      <td>[0.15, -1.27]</td>\n      <td>[0.15, -1.27]</td>\n      <td>[0.15, -1.27]</td>\n      <td>[0.15, -1.27]</td>\n    </tr>\n    <tr>\n      <th>3514</th>\n      <td>[0.15, -1.27]</td>\n      <td>[0.15, -1.27]</td>\n      <td>[0.14, -1.27]</td>\n      <td>[0.15, -1.27]</td>\n      <td>[0.14, -1.27]</td>\n      <td>[0.13, -1.27]</td>\n      <td>[0.1, -1.27]</td>\n      <td>[0.09, -1.27]</td>\n      <td>[0.07, -1.27]</td>\n      <td>[0.04, -1.27]</td>\n    </tr>\n  </tbody>\n</table>\n<p>3515 rows × 10 columns</p>\n</div>"
     },
     "execution_count": 6,
     "metadata": {},
     "output_type": "execute_result"
    }
   ],
   "source": [
    "from ast import literal_eval\n",
    "\n",
    "df_float_list = df_raw.iloc[:, :10]\n",
    "for name, column in df_float_list.iteritems():\n",
    "    column = column.apply(literal_eval)\n",
    "    df_float_list[name] = column\n",
    "df_float_list"
   ],
   "metadata": {
    "collapsed": false
   }
  },
  {
   "cell_type": "code",
   "execution_count": 7,
   "outputs": [
    {
     "name": "stdout",
     "output_type": "stream",
     "text": [
      "Value: [-0.29, -0.07] \n",
      "Type: <class 'list'> \n",
      "\n",
      "Element value: -0.29 \n",
      "Element type: <class 'float'>\n"
     ]
    }
   ],
   "source": [
    "print(f\"Value: {df_float_list.iloc[0]['read0']} \\n\"\n",
    "      f\"Type: {type(df_float_list.iloc[0]['read0'])} \\n\"\n",
    "      f\"\\n\"\n",
    "      f\"Element value: {df_float_list.iloc[0]['read0'][0]} \\n\"\n",
    "      f\"Element type: {type(df_float_list.iloc[0]['read0'][0])}\")\n",
    "#\n",
    "# print('Value:',df_float_list.iloc[0]['read0'],'\\n','Type:',type(df_float_list.iloc[0]['read0']), '\\n','Element type:',type(df_float_list.iloc[0]['read0'][0]))"
   ],
   "metadata": {
    "collapsed": false
   }
  },
  {
   "cell_type": "markdown",
   "source": [
    "Now, that all types are correct, we need to explode so that only one value is in each cell"
   ],
   "metadata": {
    "collapsed": false
   }
  },
  {
   "cell_type": "code",
   "execution_count": 8,
   "outputs": [
    {
     "data": {
      "text/plain": "     read0 read1 read2 read3 read4 read5 read6 read7 read8 read9\n0    -0.29  0.24 -0.29   0.1  0.41  0.41  0.36  0.37  0.19  0.19\n0    -0.07 -0.62  0.14  0.14 -0.45  0.22  0.03  0.42  0.42  0.01\n1    -0.25  0.04  0.11 -0.23 -0.23 -0.48 -0.42 -0.23 -0.23 -0.12\n1    -0.04  0.19  0.19  0.07 -0.38 -0.37 -0.33 -0.33  -0.2 -0.31\n2    -0.59 -0.42 -0.42 -0.35 -0.39 -0.47 -0.12 -0.12 -0.01 -0.11\n...    ...   ...   ...   ...   ...   ...   ...   ...   ...   ...\n3512 -1.27 -1.27 -1.27 -1.27 -1.27 -1.27 -1.27 -1.27 -1.27 -1.07\n3513 -0.09  0.14  0.16  0.15  0.14  0.16  0.15  0.15  0.15  0.15\n3513 -1.18 -1.27 -1.27 -1.27 -1.27 -1.27 -1.27 -1.27 -1.27 -1.27\n3514  0.15  0.15  0.14  0.15  0.14  0.13   0.1  0.09  0.07  0.04\n3514 -1.27 -1.27 -1.27 -1.27 -1.27 -1.27 -1.27 -1.27 -1.27 -1.27\n\n[7030 rows x 10 columns]",
      "text/html": "<div>\n<style scoped>\n    .dataframe tbody tr th:only-of-type {\n        vertical-align: middle;\n    }\n\n    .dataframe tbody tr th {\n        vertical-align: top;\n    }\n\n    .dataframe thead th {\n        text-align: right;\n    }\n</style>\n<table border=\"1\" class=\"dataframe\">\n  <thead>\n    <tr style=\"text-align: right;\">\n      <th></th>\n      <th>read0</th>\n      <th>read1</th>\n      <th>read2</th>\n      <th>read3</th>\n      <th>read4</th>\n      <th>read5</th>\n      <th>read6</th>\n      <th>read7</th>\n      <th>read8</th>\n      <th>read9</th>\n    </tr>\n  </thead>\n  <tbody>\n    <tr>\n      <th>0</th>\n      <td>-0.29</td>\n      <td>0.24</td>\n      <td>-0.29</td>\n      <td>0.1</td>\n      <td>0.41</td>\n      <td>0.41</td>\n      <td>0.36</td>\n      <td>0.37</td>\n      <td>0.19</td>\n      <td>0.19</td>\n    </tr>\n    <tr>\n      <th>0</th>\n      <td>-0.07</td>\n      <td>-0.62</td>\n      <td>0.14</td>\n      <td>0.14</td>\n      <td>-0.45</td>\n      <td>0.22</td>\n      <td>0.03</td>\n      <td>0.42</td>\n      <td>0.42</td>\n      <td>0.01</td>\n    </tr>\n    <tr>\n      <th>1</th>\n      <td>-0.25</td>\n      <td>0.04</td>\n      <td>0.11</td>\n      <td>-0.23</td>\n      <td>-0.23</td>\n      <td>-0.48</td>\n      <td>-0.42</td>\n      <td>-0.23</td>\n      <td>-0.23</td>\n      <td>-0.12</td>\n    </tr>\n    <tr>\n      <th>1</th>\n      <td>-0.04</td>\n      <td>0.19</td>\n      <td>0.19</td>\n      <td>0.07</td>\n      <td>-0.38</td>\n      <td>-0.37</td>\n      <td>-0.33</td>\n      <td>-0.33</td>\n      <td>-0.2</td>\n      <td>-0.31</td>\n    </tr>\n    <tr>\n      <th>2</th>\n      <td>-0.59</td>\n      <td>-0.42</td>\n      <td>-0.42</td>\n      <td>-0.35</td>\n      <td>-0.39</td>\n      <td>-0.47</td>\n      <td>-0.12</td>\n      <td>-0.12</td>\n      <td>-0.01</td>\n      <td>-0.11</td>\n    </tr>\n    <tr>\n      <th>...</th>\n      <td>...</td>\n      <td>...</td>\n      <td>...</td>\n      <td>...</td>\n      <td>...</td>\n      <td>...</td>\n      <td>...</td>\n      <td>...</td>\n      <td>...</td>\n      <td>...</td>\n    </tr>\n    <tr>\n      <th>3512</th>\n      <td>-1.27</td>\n      <td>-1.27</td>\n      <td>-1.27</td>\n      <td>-1.27</td>\n      <td>-1.27</td>\n      <td>-1.27</td>\n      <td>-1.27</td>\n      <td>-1.27</td>\n      <td>-1.27</td>\n      <td>-1.07</td>\n    </tr>\n    <tr>\n      <th>3513</th>\n      <td>-0.09</td>\n      <td>0.14</td>\n      <td>0.16</td>\n      <td>0.15</td>\n      <td>0.14</td>\n      <td>0.16</td>\n      <td>0.15</td>\n      <td>0.15</td>\n      <td>0.15</td>\n      <td>0.15</td>\n    </tr>\n    <tr>\n      <th>3513</th>\n      <td>-1.18</td>\n      <td>-1.27</td>\n      <td>-1.27</td>\n      <td>-1.27</td>\n      <td>-1.27</td>\n      <td>-1.27</td>\n      <td>-1.27</td>\n      <td>-1.27</td>\n      <td>-1.27</td>\n      <td>-1.27</td>\n    </tr>\n    <tr>\n      <th>3514</th>\n      <td>0.15</td>\n      <td>0.15</td>\n      <td>0.14</td>\n      <td>0.15</td>\n      <td>0.14</td>\n      <td>0.13</td>\n      <td>0.1</td>\n      <td>0.09</td>\n      <td>0.07</td>\n      <td>0.04</td>\n    </tr>\n    <tr>\n      <th>3514</th>\n      <td>-1.27</td>\n      <td>-1.27</td>\n      <td>-1.27</td>\n      <td>-1.27</td>\n      <td>-1.27</td>\n      <td>-1.27</td>\n      <td>-1.27</td>\n      <td>-1.27</td>\n      <td>-1.27</td>\n      <td>-1.27</td>\n    </tr>\n  </tbody>\n</table>\n<p>7030 rows × 10 columns</p>\n</div>"
     },
     "execution_count": 8,
     "metadata": {},
     "output_type": "execute_result"
    }
   ],
   "source": [
    "df_exploded = df_float_list.apply(pd.Series.explode)\n",
    "df_exploded"
   ],
   "metadata": {
    "collapsed": false
   }
  },
  {
   "cell_type": "markdown",
   "source": [
    "Finally, we can get the min and max value for each read"
   ],
   "metadata": {
    "collapsed": false
   }
  },
  {
   "cell_type": "code",
   "execution_count": 9,
   "outputs": [
    {
     "name": "stderr",
     "output_type": "stream",
     "text": [
      "C:\\Users\\guimi\\AppData\\Local\\Temp\\ipykernel_14468\\753292604.py:6: FutureWarning: iteritems is deprecated and will be removed in a future version. Use .items instead.\n",
      "  for name, column in df_exploded.iteritems():\n"
     ]
    },
    {
     "data": {
      "text/plain": "     read0  read1  read2  read3  read4  read5  read6  read7  read8  read9\nmin  -1.27  -1.27  -1.27  -1.27  -1.27  -1.27  -1.27  -1.27  -1.27  -1.27\nmax   1.28   1.28   1.28   1.28   1.28   1.28   1.28   1.28   1.28   1.28",
      "text/html": "<div>\n<style scoped>\n    .dataframe tbody tr th:only-of-type {\n        vertical-align: middle;\n    }\n\n    .dataframe tbody tr th {\n        vertical-align: top;\n    }\n\n    .dataframe thead th {\n        text-align: right;\n    }\n</style>\n<table border=\"1\" class=\"dataframe\">\n  <thead>\n    <tr style=\"text-align: right;\">\n      <th></th>\n      <th>read0</th>\n      <th>read1</th>\n      <th>read2</th>\n      <th>read3</th>\n      <th>read4</th>\n      <th>read5</th>\n      <th>read6</th>\n      <th>read7</th>\n      <th>read8</th>\n      <th>read9</th>\n    </tr>\n  </thead>\n  <tbody>\n    <tr>\n      <th>min</th>\n      <td>-1.27</td>\n      <td>-1.27</td>\n      <td>-1.27</td>\n      <td>-1.27</td>\n      <td>-1.27</td>\n      <td>-1.27</td>\n      <td>-1.27</td>\n      <td>-1.27</td>\n      <td>-1.27</td>\n      <td>-1.27</td>\n    </tr>\n    <tr>\n      <th>max</th>\n      <td>1.28</td>\n      <td>1.28</td>\n      <td>1.28</td>\n      <td>1.28</td>\n      <td>1.28</td>\n      <td>1.28</td>\n      <td>1.28</td>\n      <td>1.28</td>\n      <td>1.28</td>\n      <td>1.28</td>\n    </tr>\n  </tbody>\n</table>\n</div>"
     },
     "execution_count": 9,
     "metadata": {},
     "output_type": "execute_result"
    }
   ],
   "source": [
    "# indices pares são t_start\n",
    "# indices impares são t_end\n",
    "# Series\n",
    "\n",
    "df_min_max = pd.DataFrame(index=['min','max'])\n",
    "for name, column in df_exploded.iteritems():\n",
    "    min_max = pd.Series([column.min(), column.max()], index=['min', 'max'])\n",
    "    df_min_max[name] = min_max\n",
    "\n",
    "df_min_max"
   ],
   "metadata": {
    "collapsed": false
   }
  },
  {
   "cell_type": "markdown",
   "source": [
    "**Notes:**  all columns has the same min and max values for t_start and t_end\n"
   ],
   "metadata": {
    "collapsed": false
   }
  },
  {
   "cell_type": "markdown",
   "source": [
    "## Prepare dataset for model"
   ],
   "metadata": {
    "collapsed": false
   }
  },
  {
   "cell_type": "markdown",
   "source": [
    "### Packages"
   ],
   "metadata": {
    "collapsed": false
   }
  },
  {
   "cell_type": "markdown",
   "source": [
    "### Functions"
   ],
   "metadata": {
    "collapsed": false
   }
  },
  {
   "cell_type": "code",
   "execution_count": 10,
   "outputs": [
    {
     "data": {
      "text/plain": "      read0  read1  read2  read3  read4  read5  read6  read7  read8  read9  \\\n0      0.22  -0.86   0.43   0.04  -0.86  -0.19  -0.33   0.05   0.23  -0.18   \n1      0.21   0.15   0.08   0.30  -0.15   0.11   0.09  -0.10   0.03  -0.19   \n2      0.32   0.15   0.08  -0.02   0.03   0.11  -0.27   0.06  -0.04   0.57   \n3      0.05   0.13   0.34   0.53   0.55   0.51   0.43   0.33   0.28   0.37   \n4      0.16   0.42   0.46   0.48   0.44   0.41  -0.17  -0.29   0.34   0.34   \n...     ...    ...    ...    ...    ...    ...    ...    ...    ...    ...   \n3510  -1.35  -1.34  -1.34  -1.35  -1.35  -1.34  -1.35  -1.37  -1.35  -1.36   \n3511  -1.29  -1.52  -1.45  -1.44  -1.46  -1.45  -1.45  -1.20   0.47  -0.92   \n3512  -1.23  -1.30  -1.29  -1.29  -1.27  -1.29  -1.28  -1.28  -1.28  -0.27   \n3513  -1.09  -1.41  -1.43  -1.42  -1.41  -1.43  -1.42  -1.42  -1.42  -1.42   \n3514  -1.42  -1.42  -1.41  -1.42  -1.41  -1.40  -1.37  -1.36  -1.34  -1.31   \n\n      start_timestamp  end_timestamp  diff_timestemp  inference  \n0          1665656955     1665656967              12          1  \n1          1665656968     1665656980              12          1  \n2          1665656982     1665656994              12          1  \n3          1665656914     1665656926              12          1  \n4          1665656928     1665656940              12          1  \n...               ...            ...             ...        ...  \n3510       1674811711     1674811723              12          0  \n3511       1674811725     1674811737              12          1  \n3512       1674811654     1674811667              13          1  \n3513       1674811669     1674811681              12          1  \n3514       1674811683     1674811695              12          0  \n\n[3515 rows x 14 columns]",
      "text/html": "<div>\n<style scoped>\n    .dataframe tbody tr th:only-of-type {\n        vertical-align: middle;\n    }\n\n    .dataframe tbody tr th {\n        vertical-align: top;\n    }\n\n    .dataframe thead th {\n        text-align: right;\n    }\n</style>\n<table border=\"1\" class=\"dataframe\">\n  <thead>\n    <tr style=\"text-align: right;\">\n      <th></th>\n      <th>read0</th>\n      <th>read1</th>\n      <th>read2</th>\n      <th>read3</th>\n      <th>read4</th>\n      <th>read5</th>\n      <th>read6</th>\n      <th>read7</th>\n      <th>read8</th>\n      <th>read9</th>\n      <th>start_timestamp</th>\n      <th>end_timestamp</th>\n      <th>diff_timestemp</th>\n      <th>inference</th>\n    </tr>\n  </thead>\n  <tbody>\n    <tr>\n      <th>0</th>\n      <td>0.22</td>\n      <td>-0.86</td>\n      <td>0.43</td>\n      <td>0.04</td>\n      <td>-0.86</td>\n      <td>-0.19</td>\n      <td>-0.33</td>\n      <td>0.05</td>\n      <td>0.23</td>\n      <td>-0.18</td>\n      <td>1665656955</td>\n      <td>1665656967</td>\n      <td>12</td>\n      <td>1</td>\n    </tr>\n    <tr>\n      <th>1</th>\n      <td>0.21</td>\n      <td>0.15</td>\n      <td>0.08</td>\n      <td>0.30</td>\n      <td>-0.15</td>\n      <td>0.11</td>\n      <td>0.09</td>\n      <td>-0.10</td>\n      <td>0.03</td>\n      <td>-0.19</td>\n      <td>1665656968</td>\n      <td>1665656980</td>\n      <td>12</td>\n      <td>1</td>\n    </tr>\n    <tr>\n      <th>2</th>\n      <td>0.32</td>\n      <td>0.15</td>\n      <td>0.08</td>\n      <td>-0.02</td>\n      <td>0.03</td>\n      <td>0.11</td>\n      <td>-0.27</td>\n      <td>0.06</td>\n      <td>-0.04</td>\n      <td>0.57</td>\n      <td>1665656982</td>\n      <td>1665656994</td>\n      <td>12</td>\n      <td>1</td>\n    </tr>\n    <tr>\n      <th>3</th>\n      <td>0.05</td>\n      <td>0.13</td>\n      <td>0.34</td>\n      <td>0.53</td>\n      <td>0.55</td>\n      <td>0.51</td>\n      <td>0.43</td>\n      <td>0.33</td>\n      <td>0.28</td>\n      <td>0.37</td>\n      <td>1665656914</td>\n      <td>1665656926</td>\n      <td>12</td>\n      <td>1</td>\n    </tr>\n    <tr>\n      <th>4</th>\n      <td>0.16</td>\n      <td>0.42</td>\n      <td>0.46</td>\n      <td>0.48</td>\n      <td>0.44</td>\n      <td>0.41</td>\n      <td>-0.17</td>\n      <td>-0.29</td>\n      <td>0.34</td>\n      <td>0.34</td>\n      <td>1665656928</td>\n      <td>1665656940</td>\n      <td>12</td>\n      <td>1</td>\n    </tr>\n    <tr>\n      <th>...</th>\n      <td>...</td>\n      <td>...</td>\n      <td>...</td>\n      <td>...</td>\n      <td>...</td>\n      <td>...</td>\n      <td>...</td>\n      <td>...</td>\n      <td>...</td>\n      <td>...</td>\n      <td>...</td>\n      <td>...</td>\n      <td>...</td>\n      <td>...</td>\n    </tr>\n    <tr>\n      <th>3510</th>\n      <td>-1.35</td>\n      <td>-1.34</td>\n      <td>-1.34</td>\n      <td>-1.35</td>\n      <td>-1.35</td>\n      <td>-1.34</td>\n      <td>-1.35</td>\n      <td>-1.37</td>\n      <td>-1.35</td>\n      <td>-1.36</td>\n      <td>1674811711</td>\n      <td>1674811723</td>\n      <td>12</td>\n      <td>0</td>\n    </tr>\n    <tr>\n      <th>3511</th>\n      <td>-1.29</td>\n      <td>-1.52</td>\n      <td>-1.45</td>\n      <td>-1.44</td>\n      <td>-1.46</td>\n      <td>-1.45</td>\n      <td>-1.45</td>\n      <td>-1.20</td>\n      <td>0.47</td>\n      <td>-0.92</td>\n      <td>1674811725</td>\n      <td>1674811737</td>\n      <td>12</td>\n      <td>1</td>\n    </tr>\n    <tr>\n      <th>3512</th>\n      <td>-1.23</td>\n      <td>-1.30</td>\n      <td>-1.29</td>\n      <td>-1.29</td>\n      <td>-1.27</td>\n      <td>-1.29</td>\n      <td>-1.28</td>\n      <td>-1.28</td>\n      <td>-1.28</td>\n      <td>-0.27</td>\n      <td>1674811654</td>\n      <td>1674811667</td>\n      <td>13</td>\n      <td>1</td>\n    </tr>\n    <tr>\n      <th>3513</th>\n      <td>-1.09</td>\n      <td>-1.41</td>\n      <td>-1.43</td>\n      <td>-1.42</td>\n      <td>-1.41</td>\n      <td>-1.43</td>\n      <td>-1.42</td>\n      <td>-1.42</td>\n      <td>-1.42</td>\n      <td>-1.42</td>\n      <td>1674811669</td>\n      <td>1674811681</td>\n      <td>12</td>\n      <td>1</td>\n    </tr>\n    <tr>\n      <th>3514</th>\n      <td>-1.42</td>\n      <td>-1.42</td>\n      <td>-1.41</td>\n      <td>-1.42</td>\n      <td>-1.41</td>\n      <td>-1.40</td>\n      <td>-1.37</td>\n      <td>-1.36</td>\n      <td>-1.34</td>\n      <td>-1.31</td>\n      <td>1674811683</td>\n      <td>1674811695</td>\n      <td>12</td>\n      <td>0</td>\n    </tr>\n  </tbody>\n</table>\n<p>3515 rows × 14 columns</p>\n</div>"
     },
     "execution_count": 10,
     "metadata": {},
     "output_type": "execute_result"
    }
   ],
   "source": [
    "### Transform each cell to difference between t_end and t_start\n",
    "df_for_model = df_float_list.copy()\n",
    "\n",
    "df_for_model = df_for_model.apply(lambda x: x.apply(lambda y: y[1] - y[0]))\n",
    "df_for_model['start_timestamp'] = df_raw['start_timestamp']\n",
    "df_for_model['end_timestamp'] = df_raw['end_timestamp']\n",
    "df_for_model['diff_timestemp'] = df_for_model['end_timestamp'] - df_for_model['start_timestamp']\n",
    "df_for_model['inference'] = df_raw['inference']\n",
    "\n",
    "df_for_model"
   ],
   "metadata": {
    "collapsed": false
   }
  }
 ],
 "metadata": {
  "kernelspec": {
   "display_name": "Python 3",
   "language": "python",
   "name": "python3"
  },
  "language_info": {
   "codemirror_mode": {
    "name": "ipython",
    "version": 2
   },
   "file_extension": ".py",
   "mimetype": "text/x-python",
   "name": "python",
   "nbconvert_exporter": "python",
   "pygments_lexer": "ipython2",
   "version": "2.7.6"
  }
 },
 "nbformat": 4,
 "nbformat_minor": 0
}
