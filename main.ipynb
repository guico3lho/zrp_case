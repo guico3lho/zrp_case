{
 "cells": [
  {
   "cell_type": "markdown",
   "source": [
    "## Informations and Conventions\n",
    "https://zrp.github.io/challenges/data-science/\n",
    "\n",
    "For convention:\n",
    " * labels = 1 will be considered **POSITIVE** cases\n",
    " * labels = 0 will be considered **NEGATIVE** cases."
   ],
   "metadata": {
    "collapsed": false
   }
  },
  {
   "cell_type": "markdown",
   "source": [
    "## Read dataset and brief analysis"
   ],
   "metadata": {
    "collapsed": false
   }
  },
  {
   "cell_type": "markdown",
   "source": [
    "### Packages"
   ],
   "metadata": {
    "collapsed": false
   }
  },
  {
   "cell_type": "code",
   "execution_count": 5,
   "outputs": [],
   "source": [
    "import pandas as pd\n",
    "import plotly.express as plotly\n"
   ],
   "metadata": {
    "collapsed": false
   }
  },
  {
   "cell_type": "markdown",
   "source": [
    "### Functions"
   ],
   "metadata": {
    "collapsed": false
   }
  },
  {
   "cell_type": "code",
   "execution_count": 6,
   "outputs": [
    {
     "data": {
      "text/plain": "               read0           read1           read2           read3  \\\n0     [-0.29, -0.07]   [0.24, -0.62]   [-0.29, 0.14]     [0.1, 0.14]   \n1     [-0.25, -0.04]    [0.04, 0.19]    [0.11, 0.19]   [-0.23, 0.07]   \n2     [-0.59, -0.27]  [-0.42, -0.27]  [-0.42, -0.34]  [-0.35, -0.37]   \n3      [-0.2, -0.15]  [-0.44, -0.31]  [-0.65, -0.31]   [-0.7, -0.17]   \n4     [-0.35, -0.19]  [-0.61, -0.19]  [-0.61, -0.15]  [-0.61, -0.13]   \n...              ...             ...             ...             ...   \n3510   [0.08, -1.27]   [0.07, -1.27]   [0.07, -1.27]   [0.08, -1.27]   \n3511   [0.02, -1.27]   [0.25, -1.27]   [0.18, -1.27]   [0.17, -1.27]   \n3512  [-0.04, -1.27]   [0.03, -1.27]   [0.02, -1.27]   [0.02, -1.27]   \n3513  [-0.09, -1.18]   [0.14, -1.27]   [0.16, -1.27]   [0.15, -1.27]   \n3514   [0.15, -1.27]   [0.15, -1.27]   [0.14, -1.27]   [0.15, -1.27]   \n\n               read4           read5           read6           read7  \\\n0      [0.41, -0.45]    [0.41, 0.22]    [0.36, 0.03]    [0.37, 0.42]   \n1     [-0.23, -0.38]  [-0.48, -0.37]  [-0.42, -0.33]  [-0.23, -0.33]   \n2     [-0.39, -0.36]  [-0.47, -0.36]  [-0.12, -0.39]  [-0.12, -0.06]   \n3      [-0.7, -0.15]  [-0.63, -0.12]  [-0.56, -0.13]  [-0.46, -0.13]   \n4     [-0.59, -0.15]  [-0.56, -0.15]    [0.44, 0.27]    [0.44, 0.15]   \n...              ...             ...             ...             ...   \n3510   [0.08, -1.27]   [0.07, -1.27]   [0.08, -1.27]    [0.1, -1.27]   \n3511   [0.19, -1.27]   [0.18, -1.27]   [0.18, -1.27]   [0.06, -1.14]   \n3512      [0, -1.27]   [0.02, -1.27]   [0.01, -1.27]   [0.01, -1.27]   \n3513   [0.14, -1.27]   [0.16, -1.27]   [0.15, -1.27]   [0.15, -1.27]   \n3514   [0.14, -1.27]   [0.13, -1.27]    [0.1, -1.27]   [0.09, -1.27]   \n\n               read8           read9  start_timestamp  end_timestamp  \\\n0       [0.19, 0.42]    [0.19, 0.01]       1665656955     1665656967   \n1      [-0.23, -0.2]  [-0.12, -0.31]       1665656968     1665656980   \n2     [-0.01, -0.05]   [-0.11, 0.46]       1665656982     1665656994   \n3     [-0.46, -0.18]  [-0.52, -0.15]       1665656914     1665656926   \n4     [-0.59, -0.25]  [-0.56, -0.22]       1665656928     1665656940   \n...              ...             ...              ...            ...   \n3510   [0.08, -1.27]   [0.09, -1.27]       1674811711     1674811723   \n3511  [-1.18, -0.71]  [-0.35, -1.27]       1674811725     1674811737   \n3512   [0.01, -1.27]   [-0.8, -1.07]       1674811654     1674811667   \n3513   [0.15, -1.27]   [0.15, -1.27]       1674811669     1674811681   \n3514   [0.07, -1.27]   [0.04, -1.27]       1674811683     1674811695   \n\n      inference  \n0             1  \n1             1  \n2             1  \n3             1  \n4             1  \n...         ...  \n3510          0  \n3511          1  \n3512          1  \n3513          1  \n3514          0  \n\n[3515 rows x 13 columns]",
      "text/html": "<div>\n<style scoped>\n    .dataframe tbody tr th:only-of-type {\n        vertical-align: middle;\n    }\n\n    .dataframe tbody tr th {\n        vertical-align: top;\n    }\n\n    .dataframe thead th {\n        text-align: right;\n    }\n</style>\n<table border=\"1\" class=\"dataframe\">\n  <thead>\n    <tr style=\"text-align: right;\">\n      <th></th>\n      <th>read0</th>\n      <th>read1</th>\n      <th>read2</th>\n      <th>read3</th>\n      <th>read4</th>\n      <th>read5</th>\n      <th>read6</th>\n      <th>read7</th>\n      <th>read8</th>\n      <th>read9</th>\n      <th>start_timestamp</th>\n      <th>end_timestamp</th>\n      <th>inference</th>\n    </tr>\n  </thead>\n  <tbody>\n    <tr>\n      <th>0</th>\n      <td>[-0.29, -0.07]</td>\n      <td>[0.24, -0.62]</td>\n      <td>[-0.29, 0.14]</td>\n      <td>[0.1, 0.14]</td>\n      <td>[0.41, -0.45]</td>\n      <td>[0.41, 0.22]</td>\n      <td>[0.36, 0.03]</td>\n      <td>[0.37, 0.42]</td>\n      <td>[0.19, 0.42]</td>\n      <td>[0.19, 0.01]</td>\n      <td>1665656955</td>\n      <td>1665656967</td>\n      <td>1</td>\n    </tr>\n    <tr>\n      <th>1</th>\n      <td>[-0.25, -0.04]</td>\n      <td>[0.04, 0.19]</td>\n      <td>[0.11, 0.19]</td>\n      <td>[-0.23, 0.07]</td>\n      <td>[-0.23, -0.38]</td>\n      <td>[-0.48, -0.37]</td>\n      <td>[-0.42, -0.33]</td>\n      <td>[-0.23, -0.33]</td>\n      <td>[-0.23, -0.2]</td>\n      <td>[-0.12, -0.31]</td>\n      <td>1665656968</td>\n      <td>1665656980</td>\n      <td>1</td>\n    </tr>\n    <tr>\n      <th>2</th>\n      <td>[-0.59, -0.27]</td>\n      <td>[-0.42, -0.27]</td>\n      <td>[-0.42, -0.34]</td>\n      <td>[-0.35, -0.37]</td>\n      <td>[-0.39, -0.36]</td>\n      <td>[-0.47, -0.36]</td>\n      <td>[-0.12, -0.39]</td>\n      <td>[-0.12, -0.06]</td>\n      <td>[-0.01, -0.05]</td>\n      <td>[-0.11, 0.46]</td>\n      <td>1665656982</td>\n      <td>1665656994</td>\n      <td>1</td>\n    </tr>\n    <tr>\n      <th>3</th>\n      <td>[-0.2, -0.15]</td>\n      <td>[-0.44, -0.31]</td>\n      <td>[-0.65, -0.31]</td>\n      <td>[-0.7, -0.17]</td>\n      <td>[-0.7, -0.15]</td>\n      <td>[-0.63, -0.12]</td>\n      <td>[-0.56, -0.13]</td>\n      <td>[-0.46, -0.13]</td>\n      <td>[-0.46, -0.18]</td>\n      <td>[-0.52, -0.15]</td>\n      <td>1665656914</td>\n      <td>1665656926</td>\n      <td>1</td>\n    </tr>\n    <tr>\n      <th>4</th>\n      <td>[-0.35, -0.19]</td>\n      <td>[-0.61, -0.19]</td>\n      <td>[-0.61, -0.15]</td>\n      <td>[-0.61, -0.13]</td>\n      <td>[-0.59, -0.15]</td>\n      <td>[-0.56, -0.15]</td>\n      <td>[0.44, 0.27]</td>\n      <td>[0.44, 0.15]</td>\n      <td>[-0.59, -0.25]</td>\n      <td>[-0.56, -0.22]</td>\n      <td>1665656928</td>\n      <td>1665656940</td>\n      <td>1</td>\n    </tr>\n    <tr>\n      <th>...</th>\n      <td>...</td>\n      <td>...</td>\n      <td>...</td>\n      <td>...</td>\n      <td>...</td>\n      <td>...</td>\n      <td>...</td>\n      <td>...</td>\n      <td>...</td>\n      <td>...</td>\n      <td>...</td>\n      <td>...</td>\n      <td>...</td>\n    </tr>\n    <tr>\n      <th>3510</th>\n      <td>[0.08, -1.27]</td>\n      <td>[0.07, -1.27]</td>\n      <td>[0.07, -1.27]</td>\n      <td>[0.08, -1.27]</td>\n      <td>[0.08, -1.27]</td>\n      <td>[0.07, -1.27]</td>\n      <td>[0.08, -1.27]</td>\n      <td>[0.1, -1.27]</td>\n      <td>[0.08, -1.27]</td>\n      <td>[0.09, -1.27]</td>\n      <td>1674811711</td>\n      <td>1674811723</td>\n      <td>0</td>\n    </tr>\n    <tr>\n      <th>3511</th>\n      <td>[0.02, -1.27]</td>\n      <td>[0.25, -1.27]</td>\n      <td>[0.18, -1.27]</td>\n      <td>[0.17, -1.27]</td>\n      <td>[0.19, -1.27]</td>\n      <td>[0.18, -1.27]</td>\n      <td>[0.18, -1.27]</td>\n      <td>[0.06, -1.14]</td>\n      <td>[-1.18, -0.71]</td>\n      <td>[-0.35, -1.27]</td>\n      <td>1674811725</td>\n      <td>1674811737</td>\n      <td>1</td>\n    </tr>\n    <tr>\n      <th>3512</th>\n      <td>[-0.04, -1.27]</td>\n      <td>[0.03, -1.27]</td>\n      <td>[0.02, -1.27]</td>\n      <td>[0.02, -1.27]</td>\n      <td>[0, -1.27]</td>\n      <td>[0.02, -1.27]</td>\n      <td>[0.01, -1.27]</td>\n      <td>[0.01, -1.27]</td>\n      <td>[0.01, -1.27]</td>\n      <td>[-0.8, -1.07]</td>\n      <td>1674811654</td>\n      <td>1674811667</td>\n      <td>1</td>\n    </tr>\n    <tr>\n      <th>3513</th>\n      <td>[-0.09, -1.18]</td>\n      <td>[0.14, -1.27]</td>\n      <td>[0.16, -1.27]</td>\n      <td>[0.15, -1.27]</td>\n      <td>[0.14, -1.27]</td>\n      <td>[0.16, -1.27]</td>\n      <td>[0.15, -1.27]</td>\n      <td>[0.15, -1.27]</td>\n      <td>[0.15, -1.27]</td>\n      <td>[0.15, -1.27]</td>\n      <td>1674811669</td>\n      <td>1674811681</td>\n      <td>1</td>\n    </tr>\n    <tr>\n      <th>3514</th>\n      <td>[0.15, -1.27]</td>\n      <td>[0.15, -1.27]</td>\n      <td>[0.14, -1.27]</td>\n      <td>[0.15, -1.27]</td>\n      <td>[0.14, -1.27]</td>\n      <td>[0.13, -1.27]</td>\n      <td>[0.1, -1.27]</td>\n      <td>[0.09, -1.27]</td>\n      <td>[0.07, -1.27]</td>\n      <td>[0.04, -1.27]</td>\n      <td>1674811683</td>\n      <td>1674811695</td>\n      <td>0</td>\n    </tr>\n  </tbody>\n</table>\n<p>3515 rows × 13 columns</p>\n</div>"
     },
     "execution_count": 6,
     "metadata": {},
     "output_type": "execute_result"
    }
   ],
   "source": [
    "df_raw = pd.read_csv('https://raw.githubusercontent.com/zrp/challenges/master/data-science/data.csv')\n",
    "df_raw"
   ],
   "metadata": {
    "collapsed": false
   }
  },
  {
   "cell_type": "markdown",
   "source": [
    "### Balancement of dataset"
   ],
   "metadata": {
    "collapsed": false
   }
  },
  {
   "cell_type": "code",
   "execution_count": 9,
   "outputs": [
    {
     "ename": "KeyboardInterrupt",
     "evalue": "",
     "output_type": "error",
     "traceback": [
      "\u001B[1;31m---------------------------------------------------------------------------\u001B[0m",
      "\u001B[1;31mKeyboardInterrupt\u001B[0m                         Traceback (most recent call last)",
      "Cell \u001B[1;32mIn[9], line 1\u001B[0m\n\u001B[1;32m----> 1\u001B[0m \u001B[43mdf_raw\u001B[49m[\u001B[38;5;124m'\u001B[39m\u001B[38;5;124minference\u001B[39m\u001B[38;5;124m'\u001B[39m]\u001B[38;5;241m.\u001B[39mvalue_counts()\n",
      "Cell \u001B[1;32mIn[9], line 1\u001B[0m\n\u001B[1;32m----> 1\u001B[0m \u001B[43mdf_raw\u001B[49m[\u001B[38;5;124m'\u001B[39m\u001B[38;5;124minference\u001B[39m\u001B[38;5;124m'\u001B[39m]\u001B[38;5;241m.\u001B[39mvalue_counts()\n",
      "File \u001B[1;32m_pydevd_bundle\\pydevd_cython_win32_310_64.pyx:1179\u001B[0m, in \u001B[0;36m_pydevd_bundle.pydevd_cython_win32_310_64.SafeCallWrapper.__call__\u001B[1;34m()\u001B[0m\n",
      "File \u001B[1;32m_pydevd_bundle\\pydevd_cython_win32_310_64.pyx:620\u001B[0m, in \u001B[0;36m_pydevd_bundle.pydevd_cython_win32_310_64.PyDBFrame.trace_dispatch\u001B[1;34m()\u001B[0m\n",
      "File \u001B[1;32m_pydevd_bundle\\pydevd_cython_win32_310_64.pyx:929\u001B[0m, in \u001B[0;36m_pydevd_bundle.pydevd_cython_win32_310_64.PyDBFrame.trace_dispatch\u001B[1;34m()\u001B[0m\n",
      "File \u001B[1;32m_pydevd_bundle\\pydevd_cython_win32_310_64.pyx:920\u001B[0m, in \u001B[0;36m_pydevd_bundle.pydevd_cython_win32_310_64.PyDBFrame.trace_dispatch\u001B[1;34m()\u001B[0m\n",
      "File \u001B[1;32m_pydevd_bundle\\pydevd_cython_win32_310_64.pyx:317\u001B[0m, in \u001B[0;36m_pydevd_bundle.pydevd_cython_win32_310_64.PyDBFrame.do_wait_suspend\u001B[1;34m()\u001B[0m\n",
      "File \u001B[1;32mC:\\Program Files\\JetBrains\\PyCharm 2022.1.3\\plugins\\python\\helpers\\pydev\\pydevd.py:1160\u001B[0m, in \u001B[0;36mPyDB.do_wait_suspend\u001B[1;34m(self, thread, frame, event, arg, send_suspend_message, is_unhandled_exception)\u001B[0m\n\u001B[0;32m   1157\u001B[0m         from_this_thread\u001B[38;5;241m.\u001B[39mappend(frame_id)\n\u001B[0;32m   1159\u001B[0m \u001B[38;5;28;01mwith\u001B[39;00m \u001B[38;5;28mself\u001B[39m\u001B[38;5;241m.\u001B[39m_threads_suspended_single_notification\u001B[38;5;241m.\u001B[39mnotify_thread_suspended(thread_id, stop_reason):\n\u001B[1;32m-> 1160\u001B[0m     \u001B[38;5;28;43mself\u001B[39;49m\u001B[38;5;241;43m.\u001B[39;49m\u001B[43m_do_wait_suspend\u001B[49m\u001B[43m(\u001B[49m\u001B[43mthread\u001B[49m\u001B[43m,\u001B[49m\u001B[43m \u001B[49m\u001B[43mframe\u001B[49m\u001B[43m,\u001B[49m\u001B[43m \u001B[49m\u001B[43mevent\u001B[49m\u001B[43m,\u001B[49m\u001B[43m \u001B[49m\u001B[43marg\u001B[49m\u001B[43m,\u001B[49m\u001B[43m \u001B[49m\u001B[43msuspend_type\u001B[49m\u001B[43m,\u001B[49m\u001B[43m \u001B[49m\u001B[43mfrom_this_thread\u001B[49m\u001B[43m)\u001B[49m\n",
      "File \u001B[1;32mC:\\Program Files\\JetBrains\\PyCharm 2022.1.3\\plugins\\python\\helpers\\pydev\\pydevd.py:1175\u001B[0m, in \u001B[0;36mPyDB._do_wait_suspend\u001B[1;34m(self, thread, frame, event, arg, suspend_type, from_this_thread)\u001B[0m\n\u001B[0;32m   1172\u001B[0m             \u001B[38;5;28mself\u001B[39m\u001B[38;5;241m.\u001B[39m_call_mpl_hook()\n\u001B[0;32m   1174\u001B[0m         \u001B[38;5;28mself\u001B[39m\u001B[38;5;241m.\u001B[39mprocess_internal_commands()\n\u001B[1;32m-> 1175\u001B[0m         \u001B[43mtime\u001B[49m\u001B[38;5;241;43m.\u001B[39;49m\u001B[43msleep\u001B[49m\u001B[43m(\u001B[49m\u001B[38;5;241;43m0.01\u001B[39;49m\u001B[43m)\u001B[49m\n\u001B[0;32m   1177\u001B[0m \u001B[38;5;28mself\u001B[39m\u001B[38;5;241m.\u001B[39mcancel_async_evaluation(get_current_thread_id(thread), \u001B[38;5;28mstr\u001B[39m(\u001B[38;5;28mid\u001B[39m(frame)))\n\u001B[0;32m   1179\u001B[0m \u001B[38;5;66;03m# process any stepping instructions\u001B[39;00m\n",
      "\u001B[1;31mKeyboardInterrupt\u001B[0m: "
     ]
    }
   ],
   "source": [
    "df_raw['inference'].value_counts()"
   ],
   "metadata": {
    "collapsed": false
   }
  },
  {
   "cell_type": "markdown",
   "source": [
    "Notes: The dataset is relatively balanced, with more positive than negative samples. Thus, it is expected that the machine learning model will be better at classifying positive samples than negative ones."
   ],
   "metadata": {
    "collapsed": false
   }
  },
  {
   "cell_type": "markdown",
   "source": [
    "### Max and min of t_start and t_end"
   ],
   "metadata": {
    "collapsed": false
   }
  },
  {
   "cell_type": "code",
   "execution_count": 10,
   "outputs": [
    {
     "data": {
      "text/plain": "               read0           read1           read2           read3  \\\n0     [-0.29, -0.07]   [0.24, -0.62]   [-0.29, 0.14]     [0.1, 0.14]   \n1     [-0.25, -0.04]    [0.04, 0.19]    [0.11, 0.19]   [-0.23, 0.07]   \n2     [-0.59, -0.27]  [-0.42, -0.27]  [-0.42, -0.34]  [-0.35, -0.37]   \n3      [-0.2, -0.15]  [-0.44, -0.31]  [-0.65, -0.31]   [-0.7, -0.17]   \n4     [-0.35, -0.19]  [-0.61, -0.19]  [-0.61, -0.15]  [-0.61, -0.13]   \n...              ...             ...             ...             ...   \n3510   [0.08, -1.27]   [0.07, -1.27]   [0.07, -1.27]   [0.08, -1.27]   \n3511   [0.02, -1.27]   [0.25, -1.27]   [0.18, -1.27]   [0.17, -1.27]   \n3512  [-0.04, -1.27]   [0.03, -1.27]   [0.02, -1.27]   [0.02, -1.27]   \n3513  [-0.09, -1.18]   [0.14, -1.27]   [0.16, -1.27]   [0.15, -1.27]   \n3514   [0.15, -1.27]   [0.15, -1.27]   [0.14, -1.27]   [0.15, -1.27]   \n\n               read4           read5           read6           read7  \\\n0      [0.41, -0.45]    [0.41, 0.22]    [0.36, 0.03]    [0.37, 0.42]   \n1     [-0.23, -0.38]  [-0.48, -0.37]  [-0.42, -0.33]  [-0.23, -0.33]   \n2     [-0.39, -0.36]  [-0.47, -0.36]  [-0.12, -0.39]  [-0.12, -0.06]   \n3      [-0.7, -0.15]  [-0.63, -0.12]  [-0.56, -0.13]  [-0.46, -0.13]   \n4     [-0.59, -0.15]  [-0.56, -0.15]    [0.44, 0.27]    [0.44, 0.15]   \n...              ...             ...             ...             ...   \n3510   [0.08, -1.27]   [0.07, -1.27]   [0.08, -1.27]    [0.1, -1.27]   \n3511   [0.19, -1.27]   [0.18, -1.27]   [0.18, -1.27]   [0.06, -1.14]   \n3512      [0, -1.27]   [0.02, -1.27]   [0.01, -1.27]   [0.01, -1.27]   \n3513   [0.14, -1.27]   [0.16, -1.27]   [0.15, -1.27]   [0.15, -1.27]   \n3514   [0.14, -1.27]   [0.13, -1.27]    [0.1, -1.27]   [0.09, -1.27]   \n\n               read8           read9  \n0       [0.19, 0.42]    [0.19, 0.01]  \n1      [-0.23, -0.2]  [-0.12, -0.31]  \n2     [-0.01, -0.05]   [-0.11, 0.46]  \n3     [-0.46, -0.18]  [-0.52, -0.15]  \n4     [-0.59, -0.25]  [-0.56, -0.22]  \n...              ...             ...  \n3510   [0.08, -1.27]   [0.09, -1.27]  \n3511  [-1.18, -0.71]  [-0.35, -1.27]  \n3512   [0.01, -1.27]   [-0.8, -1.07]  \n3513   [0.15, -1.27]   [0.15, -1.27]  \n3514   [0.07, -1.27]   [0.04, -1.27]  \n\n[3515 rows x 10 columns]",
      "text/html": "<div>\n<style scoped>\n    .dataframe tbody tr th:only-of-type {\n        vertical-align: middle;\n    }\n\n    .dataframe tbody tr th {\n        vertical-align: top;\n    }\n\n    .dataframe thead th {\n        text-align: right;\n    }\n</style>\n<table border=\"1\" class=\"dataframe\">\n  <thead>\n    <tr style=\"text-align: right;\">\n      <th></th>\n      <th>read0</th>\n      <th>read1</th>\n      <th>read2</th>\n      <th>read3</th>\n      <th>read4</th>\n      <th>read5</th>\n      <th>read6</th>\n      <th>read7</th>\n      <th>read8</th>\n      <th>read9</th>\n    </tr>\n  </thead>\n  <tbody>\n    <tr>\n      <th>0</th>\n      <td>[-0.29, -0.07]</td>\n      <td>[0.24, -0.62]</td>\n      <td>[-0.29, 0.14]</td>\n      <td>[0.1, 0.14]</td>\n      <td>[0.41, -0.45]</td>\n      <td>[0.41, 0.22]</td>\n      <td>[0.36, 0.03]</td>\n      <td>[0.37, 0.42]</td>\n      <td>[0.19, 0.42]</td>\n      <td>[0.19, 0.01]</td>\n    </tr>\n    <tr>\n      <th>1</th>\n      <td>[-0.25, -0.04]</td>\n      <td>[0.04, 0.19]</td>\n      <td>[0.11, 0.19]</td>\n      <td>[-0.23, 0.07]</td>\n      <td>[-0.23, -0.38]</td>\n      <td>[-0.48, -0.37]</td>\n      <td>[-0.42, -0.33]</td>\n      <td>[-0.23, -0.33]</td>\n      <td>[-0.23, -0.2]</td>\n      <td>[-0.12, -0.31]</td>\n    </tr>\n    <tr>\n      <th>2</th>\n      <td>[-0.59, -0.27]</td>\n      <td>[-0.42, -0.27]</td>\n      <td>[-0.42, -0.34]</td>\n      <td>[-0.35, -0.37]</td>\n      <td>[-0.39, -0.36]</td>\n      <td>[-0.47, -0.36]</td>\n      <td>[-0.12, -0.39]</td>\n      <td>[-0.12, -0.06]</td>\n      <td>[-0.01, -0.05]</td>\n      <td>[-0.11, 0.46]</td>\n    </tr>\n    <tr>\n      <th>3</th>\n      <td>[-0.2, -0.15]</td>\n      <td>[-0.44, -0.31]</td>\n      <td>[-0.65, -0.31]</td>\n      <td>[-0.7, -0.17]</td>\n      <td>[-0.7, -0.15]</td>\n      <td>[-0.63, -0.12]</td>\n      <td>[-0.56, -0.13]</td>\n      <td>[-0.46, -0.13]</td>\n      <td>[-0.46, -0.18]</td>\n      <td>[-0.52, -0.15]</td>\n    </tr>\n    <tr>\n      <th>4</th>\n      <td>[-0.35, -0.19]</td>\n      <td>[-0.61, -0.19]</td>\n      <td>[-0.61, -0.15]</td>\n      <td>[-0.61, -0.13]</td>\n      <td>[-0.59, -0.15]</td>\n      <td>[-0.56, -0.15]</td>\n      <td>[0.44, 0.27]</td>\n      <td>[0.44, 0.15]</td>\n      <td>[-0.59, -0.25]</td>\n      <td>[-0.56, -0.22]</td>\n    </tr>\n    <tr>\n      <th>...</th>\n      <td>...</td>\n      <td>...</td>\n      <td>...</td>\n      <td>...</td>\n      <td>...</td>\n      <td>...</td>\n      <td>...</td>\n      <td>...</td>\n      <td>...</td>\n      <td>...</td>\n    </tr>\n    <tr>\n      <th>3510</th>\n      <td>[0.08, -1.27]</td>\n      <td>[0.07, -1.27]</td>\n      <td>[0.07, -1.27]</td>\n      <td>[0.08, -1.27]</td>\n      <td>[0.08, -1.27]</td>\n      <td>[0.07, -1.27]</td>\n      <td>[0.08, -1.27]</td>\n      <td>[0.1, -1.27]</td>\n      <td>[0.08, -1.27]</td>\n      <td>[0.09, -1.27]</td>\n    </tr>\n    <tr>\n      <th>3511</th>\n      <td>[0.02, -1.27]</td>\n      <td>[0.25, -1.27]</td>\n      <td>[0.18, -1.27]</td>\n      <td>[0.17, -1.27]</td>\n      <td>[0.19, -1.27]</td>\n      <td>[0.18, -1.27]</td>\n      <td>[0.18, -1.27]</td>\n      <td>[0.06, -1.14]</td>\n      <td>[-1.18, -0.71]</td>\n      <td>[-0.35, -1.27]</td>\n    </tr>\n    <tr>\n      <th>3512</th>\n      <td>[-0.04, -1.27]</td>\n      <td>[0.03, -1.27]</td>\n      <td>[0.02, -1.27]</td>\n      <td>[0.02, -1.27]</td>\n      <td>[0, -1.27]</td>\n      <td>[0.02, -1.27]</td>\n      <td>[0.01, -1.27]</td>\n      <td>[0.01, -1.27]</td>\n      <td>[0.01, -1.27]</td>\n      <td>[-0.8, -1.07]</td>\n    </tr>\n    <tr>\n      <th>3513</th>\n      <td>[-0.09, -1.18]</td>\n      <td>[0.14, -1.27]</td>\n      <td>[0.16, -1.27]</td>\n      <td>[0.15, -1.27]</td>\n      <td>[0.14, -1.27]</td>\n      <td>[0.16, -1.27]</td>\n      <td>[0.15, -1.27]</td>\n      <td>[0.15, -1.27]</td>\n      <td>[0.15, -1.27]</td>\n      <td>[0.15, -1.27]</td>\n    </tr>\n    <tr>\n      <th>3514</th>\n      <td>[0.15, -1.27]</td>\n      <td>[0.15, -1.27]</td>\n      <td>[0.14, -1.27]</td>\n      <td>[0.15, -1.27]</td>\n      <td>[0.14, -1.27]</td>\n      <td>[0.13, -1.27]</td>\n      <td>[0.1, -1.27]</td>\n      <td>[0.09, -1.27]</td>\n      <td>[0.07, -1.27]</td>\n      <td>[0.04, -1.27]</td>\n    </tr>\n  </tbody>\n</table>\n<p>3515 rows × 10 columns</p>\n</div>"
     },
     "execution_count": 10,
     "metadata": {},
     "output_type": "execute_result"
    }
   ],
   "source": [
    "df_test = df_raw.iloc[:, :10]\n",
    "df_test"
   ],
   "metadata": {
    "collapsed": false
   }
  },
  {
   "cell_type": "markdown",
   "source": [
    "## First hypothesis\n",
    "\n",
    "each column with the difference between the t_end and t_start"
   ],
   "metadata": {
    "collapsed": false
   }
  },
  {
   "cell_type": "code",
   "execution_count": null,
   "outputs": [],
   "source": [],
   "metadata": {
    "collapsed": false
   }
  }
 ],
 "metadata": {
  "kernelspec": {
   "display_name": "Python 3",
   "language": "python",
   "name": "python3"
  },
  "language_info": {
   "codemirror_mode": {
    "name": "ipython",
    "version": 2
   },
   "file_extension": ".py",
   "mimetype": "text/x-python",
   "name": "python",
   "nbconvert_exporter": "python",
   "pygments_lexer": "ipython2",
   "version": "2.7.6"
  }
 },
 "nbformat": 4,
 "nbformat_minor": 0
}
